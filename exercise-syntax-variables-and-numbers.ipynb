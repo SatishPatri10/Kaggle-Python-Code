{
 "cells": [
  {
   "cell_type": "markdown",
   "id": "6675e49d",
   "metadata": {
    "papermill": {
     "duration": 0.014271,
     "end_time": "2022-12-03T11:16:17.174497",
     "exception": false,
     "start_time": "2022-12-03T11:16:17.160226",
     "status": "completed"
    },
    "tags": []
   },
   "source": [
    "**This notebook is an exercise in the [Python](https://www.kaggle.com/learn/python) course.  You can reference the tutorial at [this link](https://www.kaggle.com/colinmorris/hello-python).**\n",
    "\n",
    "---\n"
   ]
  },
  {
   "cell_type": "markdown",
   "id": "7bf8a01c",
   "metadata": {
    "papermill": {
     "duration": 0.006679,
     "end_time": "2022-12-03T11:16:17.191439",
     "exception": false,
     "start_time": "2022-12-03T11:16:17.184760",
     "status": "completed"
    },
    "tags": []
   },
   "source": [
    "Welcome to your first set of Python coding problems.  If this is your first time using Kaggle Notebooks, welcome! \n",
    "\n",
    "Notebooks are composed of blocks (called \"cells\") of text and code. Each of these is editable, though you'll mainly be editing the code cells to answer some questions.\n",
    "\n",
    "To get started, try running the code cell below (by pressing the ► button, or clicking on the cell and pressing ctrl+enter on your keyboard)."
   ]
  },
  {
   "cell_type": "code",
   "execution_count": 1,
   "id": "7dff4627",
   "metadata": {
    "execution": {
     "iopub.execute_input": "2022-12-03T11:16:17.214345Z",
     "iopub.status.busy": "2022-12-03T11:16:17.213335Z",
     "iopub.status.idle": "2022-12-03T11:16:17.227307Z",
     "shell.execute_reply": "2022-12-03T11:16:17.226060Z"
    },
    "papermill": {
     "duration": 0.02929,
     "end_time": "2022-12-03T11:16:17.231142",
     "exception": false,
     "start_time": "2022-12-03T11:16:17.201852",
     "status": "completed"
    },
    "tags": []
   },
   "outputs": [
    {
     "name": "stdout",
     "output_type": "stream",
     "text": [
      "You've successfully run some Python code\n",
      "Congratulations!\n"
     ]
    }
   ],
   "source": [
    "print(\"You've successfully run some Python code\")\n",
    "print(\"Congratulations!\")"
   ]
  },
  {
   "cell_type": "markdown",
   "id": "b7508acc",
   "metadata": {
    "papermill": {
     "duration": 0.009708,
     "end_time": "2022-12-03T11:16:17.251730",
     "exception": false,
     "start_time": "2022-12-03T11:16:17.242022",
     "status": "completed"
    },
    "tags": []
   },
   "source": [
    "Try adding another line of code in the cell above and re-running it. \n",
    "\n",
    "Now let's get a little fancier:  Add a new code cell by clicking on an existing code cell, hitting the escape key, and then hitting the `a` or `b` key.  The `a` key will add a cell above the current cell, and `b` adds a cell below.\n",
    "\n",
    "Great! Now you know how to use Notebooks.\n",
    "\n",
    "Each hands-on exercise starts by setting up our feedback and code checking mechanism. Run the code cell below to do that. Then you'll be ready to move on to question 0."
   ]
  },
  {
   "cell_type": "code",
   "execution_count": 2,
   "id": "4beadd34",
   "metadata": {
    "_kg_hide-input": true,
    "_kg_hide-output": true,
    "execution": {
     "iopub.execute_input": "2022-12-03T11:16:17.274556Z",
     "iopub.status.busy": "2022-12-03T11:16:17.273748Z",
     "iopub.status.idle": "2022-12-03T11:16:17.325448Z",
     "shell.execute_reply": "2022-12-03T11:16:17.323934Z"
    },
    "papermill": {
     "duration": 0.066396,
     "end_time": "2022-12-03T11:16:17.328257",
     "exception": false,
     "start_time": "2022-12-03T11:16:17.261861",
     "status": "completed"
    },
    "tags": []
   },
   "outputs": [
    {
     "name": "stdout",
     "output_type": "stream",
     "text": [
      "Setup complete! You're ready to start question 0.\n"
     ]
    }
   ],
   "source": [
    "from learntools.core import binder; binder.bind(globals())\n",
    "from learntools.python.ex1 import *\n",
    "print(\"Setup complete! You're ready to start question 0.\")"
   ]
  },
  {
   "cell_type": "markdown",
   "id": "d0eac76d",
   "metadata": {
    "papermill": {
     "duration": 0.006918,
     "end_time": "2022-12-03T11:16:17.342461",
     "exception": false,
     "start_time": "2022-12-03T11:16:17.335543",
     "status": "completed"
    },
    "tags": []
   },
   "source": [
    "# 0.\n",
    "\n",
    "*This is a silly question intended as an introduction to the format we use for hands-on exercises throughout all Kaggle courses.*\n",
    "\n",
    "**What is your favorite color? **\n",
    "\n",
    "To complete this question, create a variable called `color` in the cell below with an appropriate value. The function call `q0.check()` (which we've already provided in the cell below) will check your answer."
   ]
  },
  {
   "cell_type": "code",
   "execution_count": 3,
   "id": "4376a3c4",
   "metadata": {
    "execution": {
     "iopub.execute_input": "2022-12-03T11:16:17.360179Z",
     "iopub.status.busy": "2022-12-03T11:16:17.358329Z",
     "iopub.status.idle": "2022-12-03T11:16:17.376459Z",
     "shell.execute_reply": "2022-12-03T11:16:17.374690Z"
    },
    "papermill": {
     "duration": 0.029947,
     "end_time": "2022-12-03T11:16:17.379396",
     "exception": false,
     "start_time": "2022-12-03T11:16:17.349449",
     "status": "completed"
    },
    "tags": []
   },
   "outputs": [
    {
     "data": {
      "application/javascript": [
       "parent.postMessage({\"jupyterEvent\": \"custom.exercise_interaction\", \"data\": {\"outcomeType\": 1, \"valueTowardsCompletion\": 0.25, \"interactionType\": 1, \"questionType\": 2, \"questionId\": \"0_ExerciseFormatTutorial\", \"learnToolsVersion\": \"0.3.4\", \"failureMessage\": \"\", \"exceptionClass\": \"\", \"trace\": \"\"}}, \"*\")"
      ],
      "text/plain": [
       "<IPython.core.display.Javascript object>"
      ]
     },
     "metadata": {},
     "output_type": "display_data"
    },
    {
     "data": {
      "text/markdown": [
       "<span style=\"color:#33cc33\">Correct:</span> What?! You got it right without needing a hint or anything? Drats. Well hey, you should still continue to the next step to get some practice asking for a hint and checking solutions. (Even though you obviously don't need any help here.)"
      ],
      "text/plain": [
       "Correct: What?! You got it right without needing a hint or anything? Drats. Well hey, you should still continue to the next step to get some practice asking for a hint and checking solutions. (Even though you obviously don't need any help here.)"
      ]
     },
     "metadata": {},
     "output_type": "display_data"
    }
   ],
   "source": [
    "# create a variable called color with an appropriate value on the line below\n",
    "# (Remember, strings in Python must be enclosed in 'single' or \"double\" quotes)\n",
    "color = 'blue'\n",
    "\n",
    "# Check your answer\n",
    "q0.check()"
   ]
  },
  {
   "cell_type": "markdown",
   "id": "2fbbf2bc",
   "metadata": {
    "papermill": {
     "duration": 0.011484,
     "end_time": "2022-12-03T11:16:17.402276",
     "exception": false,
     "start_time": "2022-12-03T11:16:17.390792",
     "status": "completed"
    },
    "tags": []
   },
   "source": [
    "Didn't get the right answer? How do you not even know your own favorite color?!\n",
    "\n",
    "Delete the `#` in the line below to make one of the lines run. You can choose between getting a hint or the full answer by choosing which line to remove the `#` from. \n",
    "\n",
    "Removing the `#` is called uncommenting, because it changes that line from a \"comment\" which Python doesn't run to code, which Python does run."
   ]
  },
  {
   "cell_type": "code",
   "execution_count": 4,
   "id": "d5a5330e",
   "metadata": {
    "execution": {
     "iopub.execute_input": "2022-12-03T11:16:17.418486Z",
     "iopub.status.busy": "2022-12-03T11:16:17.418090Z",
     "iopub.status.idle": "2022-12-03T11:16:17.433908Z",
     "shell.execute_reply": "2022-12-03T11:16:17.432754Z"
    },
    "papermill": {
     "duration": 0.026619,
     "end_time": "2022-12-03T11:16:17.436270",
     "exception": false,
     "start_time": "2022-12-03T11:16:17.409651",
     "status": "completed"
    },
    "tags": []
   },
   "outputs": [
    {
     "data": {
      "application/javascript": [
       "parent.postMessage({\"jupyterEvent\": \"custom.exercise_interaction\", \"data\": {\"interactionType\": 2, \"questionType\": 2, \"questionId\": \"0_ExerciseFormatTutorial\", \"learnToolsVersion\": \"0.3.4\", \"valueTowardsCompletion\": 0.0, \"failureMessage\": \"\", \"exceptionClass\": \"\", \"trace\": \"\", \"outcomeType\": 4}}, \"*\")"
      ],
      "text/plain": [
       "<IPython.core.display.Javascript object>"
      ]
     },
     "metadata": {},
     "output_type": "display_data"
    },
    {
     "data": {
      "text/markdown": [
       "<span style=\"color:#3366cc\">Hint:</span> Your favorite color rhymes with *glue*."
      ],
      "text/plain": [
       "Hint: Your favorite color rhymes with *glue*."
      ]
     },
     "metadata": {},
     "output_type": "display_data"
    },
    {
     "data": {
      "application/javascript": [
       "parent.postMessage({\"jupyterEvent\": \"custom.exercise_interaction\", \"data\": {\"interactionType\": 3, \"questionType\": 2, \"questionId\": \"0_ExerciseFormatTutorial\", \"learnToolsVersion\": \"0.3.4\", \"valueTowardsCompletion\": 0.0, \"failureMessage\": \"\", \"exceptionClass\": \"\", \"trace\": \"\", \"outcomeType\": 4}}, \"*\")"
      ],
      "text/plain": [
       "<IPython.core.display.Javascript object>"
      ]
     },
     "metadata": {},
     "output_type": "display_data"
    },
    {
     "data": {
      "text/markdown": [
       "<span style=\"color:#33cc99\">Solution:</span> \n",
       "```python\n",
       "color = \"blue\"\n",
       "```"
      ],
      "text/plain": [
       "Solution: \n",
       "```python\n",
       "color = \"blue\"\n",
       "```"
      ]
     },
     "metadata": {},
     "output_type": "display_data"
    }
   ],
   "source": [
    "q0.hint()\n",
    "q0.solution()"
   ]
  },
  {
   "cell_type": "markdown",
   "id": "6fd7daad",
   "metadata": {
    "papermill": {
     "duration": 0.009019,
     "end_time": "2022-12-03T11:16:17.454263",
     "exception": false,
     "start_time": "2022-12-03T11:16:17.445244",
     "status": "completed"
    },
    "tags": []
   },
   "source": [
    "The upcoming questions work the same way. The only thing that will change are the question numbers. For the next question, you'll call `q1.check()`, `q1.hint()`, `q1.solution()`, for question 2, you'll call `q2.check()`, and so on."
   ]
  },
  {
   "cell_type": "markdown",
   "id": "3379dee5",
   "metadata": {
    "papermill": {
     "duration": 0.007138,
     "end_time": "2022-12-03T11:16:17.469188",
     "exception": false,
     "start_time": "2022-12-03T11:16:17.462050",
     "status": "completed"
    },
    "tags": []
   },
   "source": [
    "<hr/>\n",
    "\n",
    "# 1.\n",
    "\n",
    "Complete the code below. In case it's helpful, here is the table of available arithmetic operations:\n",
    "\n",
    "\n",
    "\n",
    "| Operator     | Name           | Description                                            |\n",
    "|--------------|----------------|--------------------------------------------------------|\n",
    "| ``a + b``    | Addition       | Sum of ``a`` and ``b``                                 |\n",
    "| ``a - b``    | Subtraction    | Difference of ``a`` and ``b``                          |\n",
    "| ``a * b``    | Multiplication | Product of ``a`` and ``b``                             |\n",
    "| ``a / b``    | True division  | Quotient of ``a`` and ``b``                            |\n",
    "| ``a // b``   | Floor division | Quotient of ``a`` and ``b``, removing fractional parts |\n",
    "| ``a % b``    | Modulus        | Integer remainder after division of ``a`` by ``b``     |\n",
    "| ``a ** b``   | Exponentiation | ``a`` raised to the power of ``b``                     |\n",
    "| ``-a``       | Negation       | The negative of ``a``                                  |\n",
    "\n",
    "<span style=\"display:none\"></span>\n"
   ]
  },
  {
   "cell_type": "code",
   "execution_count": 5,
   "id": "87e20469",
   "metadata": {
    "execution": {
     "iopub.execute_input": "2022-12-03T11:16:17.486503Z",
     "iopub.status.busy": "2022-12-03T11:16:17.485599Z",
     "iopub.status.idle": "2022-12-03T11:16:17.494149Z",
     "shell.execute_reply": "2022-12-03T11:16:17.492909Z"
    },
    "papermill": {
     "duration": 0.019814,
     "end_time": "2022-12-03T11:16:17.496501",
     "exception": false,
     "start_time": "2022-12-03T11:16:17.476687",
     "status": "completed"
    },
    "tags": []
   },
   "outputs": [
    {
     "data": {
      "application/javascript": [
       "parent.postMessage({\"jupyterEvent\": \"custom.exercise_interaction\", \"data\": {\"outcomeType\": 1, \"valueTowardsCompletion\": 0.25, \"interactionType\": 1, \"questionType\": 1, \"questionId\": \"1_CircleArea\", \"learnToolsVersion\": \"0.3.4\", \"failureMessage\": \"\", \"exceptionClass\": \"\", \"trace\": \"\"}}, \"*\")"
      ],
      "text/plain": [
       "<IPython.core.display.Javascript object>"
      ]
     },
     "metadata": {},
     "output_type": "display_data"
    },
    {
     "data": {
      "text/markdown": [
       "<span style=\"color:#33cc33\">Correct</span>"
      ],
      "text/plain": [
       "Correct"
      ]
     },
     "metadata": {},
     "output_type": "display_data"
    }
   ],
   "source": [
    "pi = 3.14159 # approximate\n",
    "diameter = 3\n",
    "\n",
    "# Create a variable called 'radius' equal to half the diameter\n",
    "radius = diameter /2\n",
    "\n",
    "# Create a variable called 'area', using the formula for the area of a circle: pi times the radius squared\n",
    "area  = pi * (radius**2)\n",
    "\n",
    "# Check your answer\n",
    "q1.check()"
   ]
  },
  {
   "cell_type": "code",
   "execution_count": 6,
   "id": "b2a814ff",
   "metadata": {
    "execution": {
     "iopub.execute_input": "2022-12-03T11:16:17.514253Z",
     "iopub.status.busy": "2022-12-03T11:16:17.513571Z",
     "iopub.status.idle": "2022-12-03T11:16:17.517552Z",
     "shell.execute_reply": "2022-12-03T11:16:17.516585Z"
    },
    "papermill": {
     "duration": 0.015287,
     "end_time": "2022-12-03T11:16:17.519628",
     "exception": false,
     "start_time": "2022-12-03T11:16:17.504341",
     "status": "completed"
    },
    "tags": []
   },
   "outputs": [],
   "source": [
    "# Uncomment and run the lines below if you need help.\n",
    "#q1.hint()\n",
    "#q1.solution()"
   ]
  },
  {
   "cell_type": "markdown",
   "id": "b660ab46",
   "metadata": {
    "papermill": {
     "duration": 0.007397,
     "end_time": "2022-12-03T11:16:17.534870",
     "exception": false,
     "start_time": "2022-12-03T11:16:17.527473",
     "status": "completed"
    },
    "tags": []
   },
   "source": [
    "<hr/>\n",
    "\n",
    "# 2.\n",
    "\n",
    "Add code to the following cell to swap variables `a` and `b` (so that `a` refers to the object previously referred to by `b` and vice versa)."
   ]
  },
  {
   "cell_type": "code",
   "execution_count": 7,
   "id": "404db690",
   "metadata": {
    "execution": {
     "iopub.execute_input": "2022-12-03T11:16:17.552190Z",
     "iopub.status.busy": "2022-12-03T11:16:17.551732Z",
     "iopub.status.idle": "2022-12-03T11:16:17.561008Z",
     "shell.execute_reply": "2022-12-03T11:16:17.560028Z"
    },
    "papermill": {
     "duration": 0.020628,
     "end_time": "2022-12-03T11:16:17.563106",
     "exception": false,
     "start_time": "2022-12-03T11:16:17.542478",
     "status": "completed"
    },
    "tags": []
   },
   "outputs": [
    {
     "data": {
      "application/javascript": [
       "parent.postMessage({\"jupyterEvent\": \"custom.exercise_interaction\", \"data\": {\"outcomeType\": 1, \"valueTowardsCompletion\": 0.25, \"interactionType\": 1, \"questionType\": 2, \"questionId\": \"2_VariableSwap\", \"learnToolsVersion\": \"0.3.4\", \"failureMessage\": \"\", \"exceptionClass\": \"\", \"trace\": \"\"}}, \"*\")"
      ],
      "text/plain": [
       "<IPython.core.display.Javascript object>"
      ]
     },
     "metadata": {},
     "output_type": "display_data"
    },
    {
     "data": {
      "text/markdown": [
       "<span style=\"color:#33cc33\">Correct:</span> \n",
       "\n",
       "The most straightforward solution is to use a third variable to temporarily store one of the old values. e.g.:\n",
       "\n",
       "    tmp = a\n",
       "    a = b\n",
       "    b = tmp\n",
       "\n",
       "If you've read lots of Python code, you might have seen the following trick to swap two variables in one line:\n",
       "\n",
       "    a, b = b, a\n",
       "\n",
       "We'll demystify this bit of Python magic later when we talk about *tuples*."
      ],
      "text/plain": [
       "Correct: \n",
       "\n",
       "The most straightforward solution is to use a third variable to temporarily store one of the old values. e.g.:\n",
       "\n",
       "    tmp = a\n",
       "    a = b\n",
       "    b = tmp\n",
       "\n",
       "If you've read lots of Python code, you might have seen the following trick to swap two variables in one line:\n",
       "\n",
       "    a, b = b, a\n",
       "\n",
       "We'll demystify this bit of Python magic later when we talk about *tuples*."
      ]
     },
     "metadata": {},
     "output_type": "display_data"
    }
   ],
   "source": [
    "########### Setup code - don't touch this part ######################\n",
    "# If you're curious, these are examples of lists. We'll talk about \n",
    "# them in depth a few lessons from now. For now, just know that they're\n",
    "# yet another type of Python object, like int or float.\n",
    "a = [1, 2, 3]\n",
    "b = [3, 2, 1]\n",
    "q2.store_original_ids()\n",
    "######################################################################\n",
    "\n",
    "# Your code goes here. Swap the values to which a and b refer.\n",
    "# If you get stuck, you can always uncomment one or both of the lines in\n",
    "# the next cell for a hint, or to peek at the solution.\n",
    "temp = a\n",
    "a=b\n",
    "b=temp\n",
    "######################################################################\n",
    "\n",
    "# Check your answer\n",
    "q2.check()"
   ]
  },
  {
   "cell_type": "code",
   "execution_count": 8,
   "id": "3165dfcf",
   "metadata": {
    "execution": {
     "iopub.execute_input": "2022-12-03T11:16:17.581260Z",
     "iopub.status.busy": "2022-12-03T11:16:17.580812Z",
     "iopub.status.idle": "2022-12-03T11:16:17.585017Z",
     "shell.execute_reply": "2022-12-03T11:16:17.584087Z"
    },
    "papermill": {
     "duration": 0.015931,
     "end_time": "2022-12-03T11:16:17.587048",
     "exception": false,
     "start_time": "2022-12-03T11:16:17.571117",
     "status": "completed"
    },
    "tags": []
   },
   "outputs": [],
   "source": [
    "#q2.hint()"
   ]
  },
  {
   "cell_type": "code",
   "execution_count": 9,
   "id": "7905305b",
   "metadata": {
    "execution": {
     "iopub.execute_input": "2022-12-03T11:16:17.605377Z",
     "iopub.status.busy": "2022-12-03T11:16:17.604630Z",
     "iopub.status.idle": "2022-12-03T11:16:17.609893Z",
     "shell.execute_reply": "2022-12-03T11:16:17.608721Z"
    },
    "papermill": {
     "duration": 0.016964,
     "end_time": "2022-12-03T11:16:17.612263",
     "exception": false,
     "start_time": "2022-12-03T11:16:17.595299",
     "status": "completed"
    },
    "tags": []
   },
   "outputs": [],
   "source": [
    "#q2.solution()"
   ]
  },
  {
   "cell_type": "markdown",
   "id": "ee4c202c",
   "metadata": {
    "papermill": {
     "duration": 0.007822,
     "end_time": "2022-12-03T11:16:17.628201",
     "exception": false,
     "start_time": "2022-12-03T11:16:17.620379",
     "status": "completed"
    },
    "tags": []
   },
   "source": [
    "<hr/>\n",
    "\n",
    "# 3a.\n",
    "\n",
    "Add parentheses to the following expression so that it evaluates to 1."
   ]
  },
  {
   "cell_type": "code",
   "execution_count": 10,
   "id": "db4d493b",
   "metadata": {
    "execution": {
     "iopub.execute_input": "2022-12-03T11:16:17.646485Z",
     "iopub.status.busy": "2022-12-03T11:16:17.646057Z",
     "iopub.status.idle": "2022-12-03T11:16:17.651997Z",
     "shell.execute_reply": "2022-12-03T11:16:17.651162Z"
    },
    "papermill": {
     "duration": 0.017677,
     "end_time": "2022-12-03T11:16:17.654082",
     "exception": false,
     "start_time": "2022-12-03T11:16:17.636405",
     "status": "completed"
    },
    "tags": []
   },
   "outputs": [
    {
     "data": {
      "text/plain": [
       "1"
      ]
     },
     "execution_count": 10,
     "metadata": {},
     "output_type": "execute_result"
    }
   ],
   "source": [
    "(5 - 3) // 2"
   ]
  },
  {
   "cell_type": "code",
   "execution_count": 11,
   "id": "312b80f9",
   "metadata": {
    "execution": {
     "iopub.execute_input": "2022-12-03T11:16:17.672211Z",
     "iopub.status.busy": "2022-12-03T11:16:17.671778Z",
     "iopub.status.idle": "2022-12-03T11:16:17.676824Z",
     "shell.execute_reply": "2022-12-03T11:16:17.675720Z"
    },
    "papermill": {
     "duration": 0.016755,
     "end_time": "2022-12-03T11:16:17.679091",
     "exception": false,
     "start_time": "2022-12-03T11:16:17.662336",
     "status": "completed"
    },
    "tags": []
   },
   "outputs": [],
   "source": [
    "#q3.a.hint()"
   ]
  },
  {
   "cell_type": "code",
   "execution_count": 12,
   "id": "ba41d537",
   "metadata": {
    "execution": {
     "iopub.execute_input": "2022-12-03T11:16:17.697357Z",
     "iopub.status.busy": "2022-12-03T11:16:17.696906Z",
     "iopub.status.idle": "2022-12-03T11:16:17.705214Z",
     "shell.execute_reply": "2022-12-03T11:16:17.704158Z"
    },
    "papermill": {
     "duration": 0.020444,
     "end_time": "2022-12-03T11:16:17.707760",
     "exception": false,
     "start_time": "2022-12-03T11:16:17.687316",
     "status": "completed"
    },
    "tags": []
   },
   "outputs": [
    {
     "data": {
      "application/javascript": [
       "parent.postMessage({\"jupyterEvent\": \"custom.exercise_interaction\", \"data\": {\"interactionType\": 3, \"questionType\": 4, \"questionId\": \"3.1_ArithmeticParensEasy\", \"learnToolsVersion\": \"0.3.4\", \"valueTowardsCompletion\": 0.0, \"failureMessage\": \"\", \"exceptionClass\": \"\", \"trace\": \"\", \"outcomeType\": 4}}, \"*\")"
      ],
      "text/plain": [
       "<IPython.core.display.Javascript object>"
      ]
     },
     "metadata": {},
     "output_type": "display_data"
    },
    {
     "data": {
      "text/markdown": [
       "<span style=\"color:#33cc99\">Solution:</span> \n",
       "```python\n",
       "(5 - 3) // 2\n",
       "```"
      ],
      "text/plain": [
       "Solution: \n",
       "```python\n",
       "(5 - 3) // 2\n",
       "```"
      ]
     },
     "metadata": {},
     "output_type": "display_data"
    }
   ],
   "source": [
    "# Check your answer (Run this code cell to receive credit!)\n",
    "q3.a.solution()"
   ]
  },
  {
   "cell_type": "markdown",
   "id": "f54d6902",
   "metadata": {
    "papermill": {
     "duration": 0.008302,
     "end_time": "2022-12-03T11:16:17.724760",
     "exception": false,
     "start_time": "2022-12-03T11:16:17.716458",
     "status": "completed"
    },
    "tags": []
   },
   "source": [
    "# 3b.  <span title=\"A bit spicy\" style=\"color: darkgreen \">🌶️</span>\n",
    "\n",
    "<small>Questions, like this one, marked a spicy pepper are a bit harder.</small>\n",
    "\n",
    "Add parentheses to the following expression so that it evaluates to 0."
   ]
  },
  {
   "cell_type": "code",
   "execution_count": 13,
   "id": "aab792dd",
   "metadata": {
    "execution": {
     "iopub.execute_input": "2022-12-03T11:16:17.743991Z",
     "iopub.status.busy": "2022-12-03T11:16:17.743241Z",
     "iopub.status.idle": "2022-12-03T11:16:17.750776Z",
     "shell.execute_reply": "2022-12-03T11:16:17.749349Z"
    },
    "papermill": {
     "duration": 0.019919,
     "end_time": "2022-12-03T11:16:17.753260",
     "exception": false,
     "start_time": "2022-12-03T11:16:17.733341",
     "status": "completed"
    },
    "tags": []
   },
   "outputs": [
    {
     "data": {
      "text/plain": [
       "0"
      ]
     },
     "execution_count": 13,
     "metadata": {},
     "output_type": "execute_result"
    }
   ],
   "source": [
    "(8 - 3) *( 2 - (1 + 1))"
   ]
  },
  {
   "cell_type": "code",
   "execution_count": 14,
   "id": "c9b4d44b",
   "metadata": {
    "execution": {
     "iopub.execute_input": "2022-12-03T11:16:17.772111Z",
     "iopub.status.busy": "2022-12-03T11:16:17.771662Z",
     "iopub.status.idle": "2022-12-03T11:16:17.780524Z",
     "shell.execute_reply": "2022-12-03T11:16:17.779472Z"
    },
    "papermill": {
     "duration": 0.020846,
     "end_time": "2022-12-03T11:16:17.782668",
     "exception": false,
     "start_time": "2022-12-03T11:16:17.761822",
     "status": "completed"
    },
    "tags": []
   },
   "outputs": [
    {
     "data": {
      "application/javascript": [
       "parent.postMessage({\"jupyterEvent\": \"custom.exercise_interaction\", \"data\": {\"interactionType\": 2, \"questionType\": 4, \"questionId\": \"3.2_ArithmeticParensHard\", \"learnToolsVersion\": \"0.3.4\", \"valueTowardsCompletion\": 0.0, \"failureMessage\": \"\", \"exceptionClass\": \"\", \"trace\": \"\", \"outcomeType\": 4}}, \"*\")"
      ],
      "text/plain": [
       "<IPython.core.display.Javascript object>"
      ]
     },
     "metadata": {},
     "output_type": "display_data"
    },
    {
     "data": {
      "text/markdown": [
       "<span style=\"color:#3366cc\">Hint:</span> You may need to use several pairs of parentheses."
      ],
      "text/plain": [
       "Hint: You may need to use several pairs of parentheses."
      ]
     },
     "metadata": {},
     "output_type": "display_data"
    }
   ],
   "source": [
    "q3.b.hint()"
   ]
  },
  {
   "cell_type": "code",
   "execution_count": 15,
   "id": "e1669762",
   "metadata": {
    "execution": {
     "iopub.execute_input": "2022-12-03T11:16:17.802949Z",
     "iopub.status.busy": "2022-12-03T11:16:17.801790Z",
     "iopub.status.idle": "2022-12-03T11:16:17.809529Z",
     "shell.execute_reply": "2022-12-03T11:16:17.808739Z"
    },
    "papermill": {
     "duration": 0.02023,
     "end_time": "2022-12-03T11:16:17.811777",
     "exception": false,
     "start_time": "2022-12-03T11:16:17.791547",
     "status": "completed"
    },
    "tags": []
   },
   "outputs": [
    {
     "data": {
      "application/javascript": [
       "parent.postMessage({\"jupyterEvent\": \"custom.exercise_interaction\", \"data\": {\"interactionType\": 3, \"questionType\": 4, \"questionId\": \"3.2_ArithmeticParensHard\", \"learnToolsVersion\": \"0.3.4\", \"valueTowardsCompletion\": 0.0, \"failureMessage\": \"\", \"exceptionClass\": \"\", \"trace\": \"\", \"outcomeType\": 4}}, \"*\")"
      ],
      "text/plain": [
       "<IPython.core.display.Javascript object>"
      ]
     },
     "metadata": {},
     "output_type": "display_data"
    },
    {
     "data": {
      "text/markdown": [
       "<span style=\"color:#33cc99\">Solution:</span> `(8 - 3) * (2 - (1 + 1))` is one solution. There may be others."
      ],
      "text/plain": [
       "Solution: `(8 - 3) * (2 - (1 + 1))` is one solution. There may be others."
      ]
     },
     "metadata": {},
     "output_type": "display_data"
    }
   ],
   "source": [
    "# Check your answer (Run this code cell to receive credit!)\n",
    "q3.b.solution()"
   ]
  },
  {
   "cell_type": "markdown",
   "id": "756f27bc",
   "metadata": {
    "papermill": {
     "duration": 0.009035,
     "end_time": "2022-12-03T11:16:17.829848",
     "exception": false,
     "start_time": "2022-12-03T11:16:17.820813",
     "status": "completed"
    },
    "tags": []
   },
   "source": [
    "<hr/>\n",
    "\n",
    "# 4. \n",
    "Alice, Bob and Carol have agreed to pool their Halloween candy and split it evenly among themselves.\n",
    "For the sake of their friendship, any candies left over will be smashed. For example, if they collectively\n",
    "bring home 91 candies, they'll take 30 each and smash 1.\n",
    "\n",
    "Write an arithmetic expression below to calculate how many candies they must smash for a given haul."
   ]
  },
  {
   "cell_type": "code",
   "execution_count": 16,
   "id": "d1846774",
   "metadata": {
    "execution": {
     "iopub.execute_input": "2022-12-03T11:16:17.850129Z",
     "iopub.status.busy": "2022-12-03T11:16:17.849268Z",
     "iopub.status.idle": "2022-12-03T11:16:17.859817Z",
     "shell.execute_reply": "2022-12-03T11:16:17.858674Z"
    },
    "papermill": {
     "duration": 0.024132,
     "end_time": "2022-12-03T11:16:17.862947",
     "exception": false,
     "start_time": "2022-12-03T11:16:17.838815",
     "status": "completed"
    },
    "tags": []
   },
   "outputs": [
    {
     "data": {
      "application/javascript": [
       "parent.postMessage({\"jupyterEvent\": \"custom.exercise_interaction\", \"data\": {\"outcomeType\": 1, \"valueTowardsCompletion\": 0.25, \"interactionType\": 1, \"questionType\": 1, \"questionId\": \"4_CandySplitting\", \"learnToolsVersion\": \"0.3.4\", \"failureMessage\": \"\", \"exceptionClass\": \"\", \"trace\": \"\"}}, \"*\")"
      ],
      "text/plain": [
       "<IPython.core.display.Javascript object>"
      ]
     },
     "metadata": {},
     "output_type": "display_data"
    },
    {
     "data": {
      "text/markdown": [
       "<span style=\"color:#33cc33\">Correct</span>"
      ],
      "text/plain": [
       "Correct"
      ]
     },
     "metadata": {},
     "output_type": "display_data"
    }
   ],
   "source": [
    "# Variables representing the number of candies collected by alice, bob, and carol\n",
    "alice_candies = 121\n",
    "bob_candies = 77\n",
    "carol_candies = 109\n",
    "\n",
    "# Your code goes here! Replace the right-hand side of this assignment with an expression\n",
    "# involving alice_candies, bob_candies, and carol_candies\n",
    "to_smash = (alice_candies+bob_candies+carol_candies)%3\n",
    "\n",
    "# Check your answer\n",
    "q4.check()"
   ]
  },
  {
   "cell_type": "code",
   "execution_count": 17,
   "id": "2395bbb3",
   "metadata": {
    "execution": {
     "iopub.execute_input": "2022-12-03T11:16:17.884085Z",
     "iopub.status.busy": "2022-12-03T11:16:17.883638Z",
     "iopub.status.idle": "2022-12-03T11:16:17.893172Z",
     "shell.execute_reply": "2022-12-03T11:16:17.891914Z"
    },
    "papermill": {
     "duration": 0.023118,
     "end_time": "2022-12-03T11:16:17.895581",
     "exception": false,
     "start_time": "2022-12-03T11:16:17.872463",
     "status": "completed"
    },
    "tags": []
   },
   "outputs": [
    {
     "data": {
      "application/javascript": [
       "parent.postMessage({\"jupyterEvent\": \"custom.exercise_interaction\", \"data\": {\"interactionType\": 3, \"questionType\": 1, \"questionId\": \"4_CandySplitting\", \"learnToolsVersion\": \"0.3.4\", \"valueTowardsCompletion\": 0.0, \"failureMessage\": \"\", \"exceptionClass\": \"\", \"trace\": \"\", \"outcomeType\": 4}}, \"*\")"
      ],
      "text/plain": [
       "<IPython.core.display.Javascript object>"
      ]
     },
     "metadata": {},
     "output_type": "display_data"
    },
    {
     "data": {
      "text/markdown": [
       "<span style=\"color:#33cc99\">Solution:</span> \n",
       "```python\n",
       "(alice_candies + bob_candies + carol_candies) % 3\n",
       "```"
      ],
      "text/plain": [
       "Solution: \n",
       "```python\n",
       "(alice_candies + bob_candies + carol_candies) % 3\n",
       "```"
      ]
     },
     "metadata": {},
     "output_type": "display_data"
    }
   ],
   "source": [
    "#q4.hint()\n",
    "q4.solution()"
   ]
  },
  {
   "cell_type": "markdown",
   "id": "23c4b389",
   "metadata": {
    "papermill": {
     "duration": 0.009241,
     "end_time": "2022-12-03T11:16:17.914304",
     "exception": false,
     "start_time": "2022-12-03T11:16:17.905063",
     "status": "completed"
    },
    "tags": []
   },
   "source": [
    "# Keep Going\n",
    "\n",
    "Next up, you'll **[learn to write new functions and understand functions others write](https://www.kaggle.com/colinmorris/functions-and-getting-help)**. This will make you at least 10 times more productive as a Python programmer. "
   ]
  },
  {
   "cell_type": "markdown",
   "id": "e824d1bb",
   "metadata": {
    "papermill": {
     "duration": 0.009268,
     "end_time": "2022-12-03T11:16:17.932982",
     "exception": false,
     "start_time": "2022-12-03T11:16:17.923714",
     "status": "completed"
    },
    "tags": []
   },
   "source": [
    "---\n",
    "\n",
    "\n",
    "\n",
    "\n",
    "*Have questions or comments? Visit the [course discussion forum](https://www.kaggle.com/learn/python/discussion) to chat with other learners.*"
   ]
  }
 ],
 "metadata": {
  "kernelspec": {
   "display_name": "Python 3",
   "language": "python",
   "name": "python3"
  },
  "language_info": {
   "codemirror_mode": {
    "name": "ipython",
    "version": 3
   },
   "file_extension": ".py",
   "mimetype": "text/x-python",
   "name": "python",
   "nbconvert_exporter": "python",
   "pygments_lexer": "ipython3",
   "version": "3.7.12"
  },
  "papermill": {
   "default_parameters": {},
   "duration": 10.575894,
   "end_time": "2022-12-03T11:16:18.665174",
   "environment_variables": {},
   "exception": null,
   "input_path": "__notebook__.ipynb",
   "output_path": "__notebook__.ipynb",
   "parameters": {},
   "start_time": "2022-12-03T11:16:08.089280",
   "version": "2.3.4"
  }
 },
 "nbformat": 4,
 "nbformat_minor": 5
}
