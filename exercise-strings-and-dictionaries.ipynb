{
 "cells": [
  {
   "cell_type": "markdown",
   "id": "25d5264b",
   "metadata": {
    "papermill": {
     "duration": 0.007691,
     "end_time": "2022-12-03T10:53:49.303327",
     "exception": false,
     "start_time": "2022-12-03T10:53:49.295636",
     "status": "completed"
    },
    "tags": []
   },
   "source": [
    "**This notebook is an exercise in the [Python](https://www.kaggle.com/learn/python) course.  You can reference the tutorial at [this link](https://www.kaggle.com/colinmorris/strings-and-dictionaries).**\n",
    "\n",
    "---\n"
   ]
  },
  {
   "cell_type": "markdown",
   "id": "ce9c3732",
   "metadata": {
    "papermill": {
     "duration": 0.006466,
     "end_time": "2022-12-03T10:53:49.318238",
     "exception": false,
     "start_time": "2022-12-03T10:53:49.311772",
     "status": "completed"
    },
    "tags": []
   },
   "source": [
    "You are almost done with the course. Nice job!\n",
    "\n",
    "We have a couple more interesting problems for you before you go. \n",
    "\n",
    "As always, run the setup code below before working on the questions."
   ]
  },
  {
   "cell_type": "code",
   "execution_count": 1,
   "id": "fd319a16",
   "metadata": {
    "execution": {
     "iopub.execute_input": "2022-12-03T10:53:49.332585Z",
     "iopub.status.busy": "2022-12-03T10:53:49.331803Z",
     "iopub.status.idle": "2022-12-03T10:53:49.415088Z",
     "shell.execute_reply": "2022-12-03T10:53:49.413460Z"
    },
    "papermill": {
     "duration": 0.094622,
     "end_time": "2022-12-03T10:53:49.418810",
     "exception": false,
     "start_time": "2022-12-03T10:53:49.324188",
     "status": "completed"
    },
    "tags": []
   },
   "outputs": [
    {
     "name": "stdout",
     "output_type": "stream",
     "text": [
      "Setup complete.\n"
     ]
    }
   ],
   "source": [
    "from learntools.core import binder; binder.bind(globals())\n",
    "from learntools.python.ex6 import *\n",
    "print('Setup complete.')"
   ]
  },
  {
   "cell_type": "markdown",
   "id": "40b1df14",
   "metadata": {
    "papermill": {
     "duration": 0.005267,
     "end_time": "2022-12-03T10:53:49.430766",
     "exception": false,
     "start_time": "2022-12-03T10:53:49.425499",
     "status": "completed"
    },
    "tags": []
   },
   "source": [
    "Let's start with a string lightning round to warm up. What are the lengths of the strings below?\n",
    "\n",
    "For each of the five strings below, predict what `len()` would return when passed that string. Use the variable `length` to record your answer, then run the cell to check whether you were right.  \n",
    "\n",
    "# 0a."
   ]
  },
  {
   "cell_type": "code",
   "execution_count": 2,
   "id": "efbb9b7e",
   "metadata": {
    "execution": {
     "iopub.execute_input": "2022-12-03T10:53:49.446447Z",
     "iopub.status.busy": "2022-12-03T10:53:49.445770Z",
     "iopub.status.idle": "2022-12-03T10:53:49.459313Z",
     "shell.execute_reply": "2022-12-03T10:53:49.458106Z"
    },
    "papermill": {
     "duration": 0.025115,
     "end_time": "2022-12-03T10:53:49.461620",
     "exception": false,
     "start_time": "2022-12-03T10:53:49.436505",
     "status": "completed"
    },
    "tags": []
   },
   "outputs": [
    {
     "data": {
      "application/javascript": [
       "parent.postMessage({\"jupyterEvent\": \"custom.exercise_interaction\", \"data\": {\"outcomeType\": 1, \"valueTowardsCompletion\": 0.3333333333333333, \"interactionType\": 1, \"questionType\": 1, \"questionId\": \"0.1_ZA\", \"learnToolsVersion\": \"0.3.4\", \"failureMessage\": \"\", \"exceptionClass\": \"\", \"trace\": \"\"}}, \"*\")"
      ],
      "text/plain": [
       "<IPython.core.display.Javascript object>"
      ]
     },
     "metadata": {},
     "output_type": "display_data"
    },
    {
     "data": {
      "text/markdown": [
       "<span style=\"color:#33cc33\">Correct:</span> \n",
       "\n",
       "The empty string has length zero. Note that the empty string is also the only string that Python considers as False when converting to boolean."
      ],
      "text/plain": [
       "Correct: \n",
       "\n",
       "The empty string has length zero. Note that the empty string is also the only string that Python considers as False when converting to boolean."
      ]
     },
     "metadata": {},
     "output_type": "display_data"
    }
   ],
   "source": [
    "a = \"\"\n",
    "length = len(a)\n",
    "q0.a.check()"
   ]
  },
  {
   "cell_type": "markdown",
   "id": "68cf99c9",
   "metadata": {
    "papermill": {
     "duration": 0.005208,
     "end_time": "2022-12-03T10:53:49.472561",
     "exception": false,
     "start_time": "2022-12-03T10:53:49.467353",
     "status": "completed"
    },
    "tags": []
   },
   "source": [
    "# 0b."
   ]
  },
  {
   "cell_type": "code",
   "execution_count": 3,
   "id": "beba7a56",
   "metadata": {
    "execution": {
     "iopub.execute_input": "2022-12-03T10:53:49.484961Z",
     "iopub.status.busy": "2022-12-03T10:53:49.484585Z",
     "iopub.status.idle": "2022-12-03T10:53:49.494826Z",
     "shell.execute_reply": "2022-12-03T10:53:49.493284Z"
    },
    "papermill": {
     "duration": 0.019188,
     "end_time": "2022-12-03T10:53:49.497076",
     "exception": false,
     "start_time": "2022-12-03T10:53:49.477888",
     "status": "completed"
    },
    "tags": []
   },
   "outputs": [
    {
     "data": {
      "application/javascript": [
       "parent.postMessage({\"jupyterEvent\": \"custom.exercise_interaction\", \"data\": {\"outcomeType\": 1, \"valueTowardsCompletion\": 0.3333333333333333, \"interactionType\": 1, \"questionType\": 1, \"questionId\": \"0.2_ZB\", \"learnToolsVersion\": \"0.3.4\", \"failureMessage\": \"\", \"exceptionClass\": \"\", \"trace\": \"\"}}, \"*\")"
      ],
      "text/plain": [
       "<IPython.core.display.Javascript object>"
      ]
     },
     "metadata": {},
     "output_type": "display_data"
    },
    {
     "data": {
      "text/markdown": [
       "<span style=\"color:#33cc33\">Correct:</span> \n",
       "\n",
       "Keep in mind Python includes spaces (and punctuation) when counting string length."
      ],
      "text/plain": [
       "Correct: \n",
       "\n",
       "Keep in mind Python includes spaces (and punctuation) when counting string length."
      ]
     },
     "metadata": {},
     "output_type": "display_data"
    }
   ],
   "source": [
    "b = \"it's ok\"\n",
    "length = len(b)\n",
    "q0.b.check()"
   ]
  },
  {
   "cell_type": "markdown",
   "id": "aa0eade1",
   "metadata": {
    "papermill": {
     "duration": 0.005599,
     "end_time": "2022-12-03T10:53:49.508520",
     "exception": false,
     "start_time": "2022-12-03T10:53:49.502921",
     "status": "completed"
    },
    "tags": []
   },
   "source": [
    "# 0c."
   ]
  },
  {
   "cell_type": "code",
   "execution_count": 4,
   "id": "f02f803e",
   "metadata": {
    "execution": {
     "iopub.execute_input": "2022-12-03T10:53:49.523979Z",
     "iopub.status.busy": "2022-12-03T10:53:49.523528Z",
     "iopub.status.idle": "2022-12-03T10:53:49.533117Z",
     "shell.execute_reply": "2022-12-03T10:53:49.532200Z"
    },
    "papermill": {
     "duration": 0.019384,
     "end_time": "2022-12-03T10:53:49.535238",
     "exception": false,
     "start_time": "2022-12-03T10:53:49.515854",
     "status": "completed"
    },
    "tags": []
   },
   "outputs": [
    {
     "data": {
      "application/javascript": [
       "parent.postMessage({\"jupyterEvent\": \"custom.exercise_interaction\", \"data\": {\"outcomeType\": 1, \"valueTowardsCompletion\": 0.3333333333333333, \"interactionType\": 1, \"questionType\": 1, \"questionId\": \"0.3_ZC\", \"learnToolsVersion\": \"0.3.4\", \"failureMessage\": \"\", \"exceptionClass\": \"\", \"trace\": \"\"}}, \"*\")"
      ],
      "text/plain": [
       "<IPython.core.display.Javascript object>"
      ]
     },
     "metadata": {},
     "output_type": "display_data"
    },
    {
     "data": {
      "text/markdown": [
       "<span style=\"color:#33cc33\">Correct:</span> \n",
       "\n",
       "Even though we use different syntax to create it, the string `c` is identical to `b`. In particular, note that the backslash is not part of the string, so it doesn't contribute to its length."
      ],
      "text/plain": [
       "Correct: \n",
       "\n",
       "Even though we use different syntax to create it, the string `c` is identical to `b`. In particular, note that the backslash is not part of the string, so it doesn't contribute to its length."
      ]
     },
     "metadata": {},
     "output_type": "display_data"
    }
   ],
   "source": [
    "c = 'it\\'s ok'\n",
    "length = len(c)\n",
    "q0.c.check()"
   ]
  },
  {
   "cell_type": "markdown",
   "id": "be4c7a7d",
   "metadata": {
    "papermill": {
     "duration": 0.006482,
     "end_time": "2022-12-03T10:53:49.549628",
     "exception": false,
     "start_time": "2022-12-03T10:53:49.543146",
     "status": "completed"
    },
    "tags": []
   },
   "source": [
    "# 0d."
   ]
  },
  {
   "cell_type": "code",
   "execution_count": 5,
   "id": "11c512b9",
   "metadata": {
    "execution": {
     "iopub.execute_input": "2022-12-03T10:53:49.569108Z",
     "iopub.status.busy": "2022-12-03T10:53:49.568404Z",
     "iopub.status.idle": "2022-12-03T10:53:49.579720Z",
     "shell.execute_reply": "2022-12-03T10:53:49.578322Z"
    },
    "papermill": {
     "duration": 0.024774,
     "end_time": "2022-12-03T10:53:49.582124",
     "exception": false,
     "start_time": "2022-12-03T10:53:49.557350",
     "status": "completed"
    },
    "tags": []
   },
   "outputs": [
    {
     "data": {
      "application/javascript": [
       "parent.postMessage({\"jupyterEvent\": \"custom.exercise_interaction\", \"data\": {\"outcomeType\": 1, \"valueTowardsCompletion\": 0.3333333333333333, \"interactionType\": 1, \"questionType\": 1, \"questionId\": \"0.4_ZD\", \"learnToolsVersion\": \"0.3.4\", \"failureMessage\": \"\", \"exceptionClass\": \"\", \"trace\": \"\"}}, \"*\")"
      ],
      "text/plain": [
       "<IPython.core.display.Javascript object>"
      ]
     },
     "metadata": {},
     "output_type": "display_data"
    },
    {
     "data": {
      "text/markdown": [
       "<span style=\"color:#33cc33\">Correct:</span> \n",
       "\n",
       "The fact that this string was created using triple-quote syntax doesn't make any difference in terms of its content or length. This string is exactly the same as `'hey'`."
      ],
      "text/plain": [
       "Correct: \n",
       "\n",
       "The fact that this string was created using triple-quote syntax doesn't make any difference in terms of its content or length. This string is exactly the same as `'hey'`."
      ]
     },
     "metadata": {},
     "output_type": "display_data"
    }
   ],
   "source": [
    "d = \"\"\"hey\"\"\"\n",
    "length = len(d)\n",
    "q0.d.check()"
   ]
  },
  {
   "cell_type": "markdown",
   "id": "c85165a1",
   "metadata": {
    "papermill": {
     "duration": 0.006161,
     "end_time": "2022-12-03T10:53:49.595436",
     "exception": false,
     "start_time": "2022-12-03T10:53:49.589275",
     "status": "completed"
    },
    "tags": []
   },
   "source": [
    "# 0e."
   ]
  },
  {
   "cell_type": "code",
   "execution_count": 6,
   "id": "dac26e3e",
   "metadata": {
    "execution": {
     "iopub.execute_input": "2022-12-03T10:53:49.610147Z",
     "iopub.status.busy": "2022-12-03T10:53:49.609761Z",
     "iopub.status.idle": "2022-12-03T10:53:49.620062Z",
     "shell.execute_reply": "2022-12-03T10:53:49.618606Z"
    },
    "papermill": {
     "duration": 0.021093,
     "end_time": "2022-12-03T10:53:49.622818",
     "exception": false,
     "start_time": "2022-12-03T10:53:49.601725",
     "status": "completed"
    },
    "tags": []
   },
   "outputs": [
    {
     "data": {
      "application/javascript": [
       "parent.postMessage({\"jupyterEvent\": \"custom.exercise_interaction\", \"data\": {\"outcomeType\": 1, \"valueTowardsCompletion\": 0.3333333333333333, \"interactionType\": 1, \"questionType\": 1, \"questionId\": \"0.5_ZE\", \"learnToolsVersion\": \"0.3.4\", \"failureMessage\": \"\", \"exceptionClass\": \"\", \"trace\": \"\"}}, \"*\")"
      ],
      "text/plain": [
       "<IPython.core.display.Javascript object>"
      ]
     },
     "metadata": {},
     "output_type": "display_data"
    },
    {
     "data": {
      "text/markdown": [
       "<span style=\"color:#33cc33\">Correct:</span> \n",
       "\n",
       "The newline character is just a single character! (Even though we represent it to Python using a combination of two characters.)"
      ],
      "text/plain": [
       "Correct: \n",
       "\n",
       "The newline character is just a single character! (Even though we represent it to Python using a combination of two characters.)"
      ]
     },
     "metadata": {},
     "output_type": "display_data"
    }
   ],
   "source": [
    "e = '\\n'\n",
    "length = len(e)\n",
    "q0.e.check()"
   ]
  },
  {
   "cell_type": "markdown",
   "id": "1d9bb70e",
   "metadata": {
    "papermill": {
     "duration": 0.008741,
     "end_time": "2022-12-03T10:53:49.638665",
     "exception": false,
     "start_time": "2022-12-03T10:53:49.629924",
     "status": "completed"
    },
    "tags": []
   },
   "source": [
    "# 1.\n",
    "\n",
    "There is a saying that \"Data scientists spend 80% of their time cleaning data, and 20% of their time complaining about cleaning data.\" Let's see if you can write a function to help clean US zip code data. Given a string, it should return whether or not that string represents a valid zip code. For our purposes, a valid zip code is any string consisting of exactly 5 digits.\n",
    "\n",
    "HINT: `str` has a method that will be useful here. Use `help(str)` to review a list of string methods."
   ]
  },
  {
   "cell_type": "code",
   "execution_count": 7,
   "id": "5a970656",
   "metadata": {
    "execution": {
     "iopub.execute_input": "2022-12-03T10:53:49.654294Z",
     "iopub.status.busy": "2022-12-03T10:53:49.653815Z",
     "iopub.status.idle": "2022-12-03T10:53:49.666601Z",
     "shell.execute_reply": "2022-12-03T10:53:49.665296Z"
    },
    "papermill": {
     "duration": 0.023801,
     "end_time": "2022-12-03T10:53:49.669185",
     "exception": false,
     "start_time": "2022-12-03T10:53:49.645384",
     "status": "completed"
    },
    "tags": []
   },
   "outputs": [
    {
     "data": {
      "application/javascript": [
       "parent.postMessage({\"jupyterEvent\": \"custom.exercise_interaction\", \"data\": {\"outcomeType\": 1, \"valueTowardsCompletion\": 0.3333333333333333, \"interactionType\": 1, \"questionType\": 2, \"questionId\": \"1_ZipValidator\", \"learnToolsVersion\": \"0.3.4\", \"failureMessage\": \"\", \"exceptionClass\": \"\", \"trace\": \"\"}}, \"*\")"
      ],
      "text/plain": [
       "<IPython.core.display.Javascript object>"
      ]
     },
     "metadata": {},
     "output_type": "display_data"
    },
    {
     "data": {
      "text/markdown": [
       "<span style=\"color:#33cc33\">Correct</span>"
      ],
      "text/plain": [
       "Correct"
      ]
     },
     "metadata": {},
     "output_type": "display_data"
    }
   ],
   "source": [
    "def is_valid_zip(zip_code):\n",
    "    \"\"\"Returns whether the input string is a valid (5 digit) zip code\n",
    "    \"\"\"\n",
    "    if (len(zip_code) == 5 and zip_code.isdigit()):\n",
    "        return True\n",
    "    return False\n",
    "\n",
    "# Check your answer\n",
    "q1.check()"
   ]
  },
  {
   "cell_type": "code",
   "execution_count": 8,
   "id": "8ce66377",
   "metadata": {
    "execution": {
     "iopub.execute_input": "2022-12-03T10:53:49.685541Z",
     "iopub.status.busy": "2022-12-03T10:53:49.685085Z",
     "iopub.status.idle": "2022-12-03T10:53:49.689632Z",
     "shell.execute_reply": "2022-12-03T10:53:49.688583Z"
    },
    "papermill": {
     "duration": 0.015418,
     "end_time": "2022-12-03T10:53:49.691957",
     "exception": false,
     "start_time": "2022-12-03T10:53:49.676539",
     "status": "completed"
    },
    "tags": []
   },
   "outputs": [],
   "source": [
    "#q1.hint()\n",
    "#q1.solution()"
   ]
  },
  {
   "cell_type": "markdown",
   "id": "0ab79a4f",
   "metadata": {
    "papermill": {
     "duration": 0.006693,
     "end_time": "2022-12-03T10:53:49.705774",
     "exception": false,
     "start_time": "2022-12-03T10:53:49.699081",
     "status": "completed"
    },
    "tags": []
   },
   "source": [
    "# 2.\n",
    "\n",
    "A researcher has gathered thousands of news articles. But she wants to focus her attention on articles including a specific word. Complete the function below to help her filter her list of articles.\n",
    "\n",
    "Your function should meet the following criteria:\n",
    "\n",
    "- Do not include documents where the keyword string shows up only as a part of a larger word. For example, if she were looking for the keyword “closed”, you would not include the string “enclosed.” \n",
    "- She does not want you to distinguish upper case from lower case letters. So the phrase “Closed the case.” would be included when the keyword is “closed”\n",
    "- Do not let periods or commas affect what is matched. “It is closed.” would be included when the keyword is “closed”. But you can assume there are no other types of punctuation."
   ]
  },
  {
   "cell_type": "code",
   "execution_count": 9,
   "id": "d681971f",
   "metadata": {
    "execution": {
     "iopub.execute_input": "2022-12-03T10:53:49.721694Z",
     "iopub.status.busy": "2022-12-03T10:53:49.721279Z",
     "iopub.status.idle": "2022-12-03T10:53:49.731770Z",
     "shell.execute_reply": "2022-12-03T10:53:49.730985Z"
    },
    "papermill": {
     "duration": 0.020936,
     "end_time": "2022-12-03T10:53:49.733872",
     "exception": false,
     "start_time": "2022-12-03T10:53:49.712936",
     "status": "completed"
    },
    "tags": []
   },
   "outputs": [
    {
     "data": {
      "application/javascript": [
       "parent.postMessage({\"jupyterEvent\": \"custom.exercise_interaction\", \"data\": {\"outcomeType\": 1, \"valueTowardsCompletion\": 0.3333333333333333, \"interactionType\": 1, \"questionType\": 2, \"questionId\": \"2_WordSearch\", \"learnToolsVersion\": \"0.3.4\", \"failureMessage\": \"\", \"exceptionClass\": \"\", \"trace\": \"\"}}, \"*\")"
      ],
      "text/plain": [
       "<IPython.core.display.Javascript object>"
      ]
     },
     "metadata": {},
     "output_type": "display_data"
    },
    {
     "data": {
      "text/markdown": [
       "<span style=\"color:#33cc33\">Correct</span>"
      ],
      "text/plain": [
       "Correct"
      ]
     },
     "metadata": {},
     "output_type": "display_data"
    }
   ],
   "source": [
    "def word_search(doc_list, keyword):\n",
    "    \"\"\"\n",
    "    Takes a list of documents (each document is a string) and a keyword. \n",
    "    Returns list of the index values into the original list for all documents \n",
    "    containing the keyword.\n",
    "\n",
    "    Example:\n",
    "    doc_list = [\"The Learn Python Challenge Casino.\", \"They bought a car\", \"Casinoville\"]\n",
    "    >>> word_search(doc_list, 'casino')\n",
    "    >>> [0]\n",
    "    \"\"\"\n",
    "    list=[]\n",
    "    # Iterate through the indices (statement) and elements (phrase) of doc_list\n",
    "    for statement,phrase in enumerate(doc_list):\n",
    "        # Split the string phrase into a list of words (according to whitespace)\n",
    "        phrase=phrase.split()\n",
    "        # Make a transformed list where we 'normalize' each word to facilitate matching.\n",
    "        # Periods and commas are removed from the end of each word, and it's set to all lowercase.\n",
    "        if keyword.lower() in [word.rstrip('.,').lower() for word in phrase]:\n",
    "            list.append(statement)\n",
    "    return list\n",
    "\n",
    "# Check your answer\n",
    "q2.check()"
   ]
  },
  {
   "cell_type": "code",
   "execution_count": 10,
   "id": "49816bf9",
   "metadata": {
    "execution": {
     "iopub.execute_input": "2022-12-03T10:53:49.750340Z",
     "iopub.status.busy": "2022-12-03T10:53:49.749940Z",
     "iopub.status.idle": "2022-12-03T10:53:49.754315Z",
     "shell.execute_reply": "2022-12-03T10:53:49.753161Z"
    },
    "papermill": {
     "duration": 0.015815,
     "end_time": "2022-12-03T10:53:49.757011",
     "exception": false,
     "start_time": "2022-12-03T10:53:49.741196",
     "status": "completed"
    },
    "tags": []
   },
   "outputs": [],
   "source": [
    "#q2.hint()\n",
    "#q2.solution()"
   ]
  },
  {
   "cell_type": "markdown",
   "id": "06d57569",
   "metadata": {
    "papermill": {
     "duration": 0.006935,
     "end_time": "2022-12-03T10:53:49.771403",
     "exception": false,
     "start_time": "2022-12-03T10:53:49.764468",
     "status": "completed"
    },
    "tags": []
   },
   "source": [
    "# 3.\n",
    "\n",
    "Now the researcher wants to supply multiple keywords to search for. Complete the function below to help her.\n",
    "\n",
    "(You're encouraged to use the `word_search` function you just wrote when implementing this function. Reusing code in this way makes your programs more robust and readable - and it saves typing!)"
   ]
  },
  {
   "cell_type": "code",
   "execution_count": 11,
   "id": "5d58fce7",
   "metadata": {
    "execution": {
     "iopub.execute_input": "2022-12-03T10:53:49.788037Z",
     "iopub.status.busy": "2022-12-03T10:53:49.787080Z",
     "iopub.status.idle": "2022-12-03T10:53:49.798608Z",
     "shell.execute_reply": "2022-12-03T10:53:49.797470Z"
    },
    "papermill": {
     "duration": 0.022266,
     "end_time": "2022-12-03T10:53:49.800899",
     "exception": false,
     "start_time": "2022-12-03T10:53:49.778633",
     "status": "completed"
    },
    "tags": []
   },
   "outputs": [
    {
     "data": {
      "application/javascript": [
       "parent.postMessage({\"jupyterEvent\": \"custom.exercise_interaction\", \"data\": {\"outcomeType\": 1, \"valueTowardsCompletion\": 0.3333333333333333, \"interactionType\": 1, \"questionType\": 2, \"questionId\": \"3_MultiWordSearch\", \"learnToolsVersion\": \"0.3.4\", \"failureMessage\": \"\", \"exceptionClass\": \"\", \"trace\": \"\"}}, \"*\")"
      ],
      "text/plain": [
       "<IPython.core.display.Javascript object>"
      ]
     },
     "metadata": {},
     "output_type": "display_data"
    },
    {
     "data": {
      "text/markdown": [
       "<span style=\"color:#33cc33\">Correct</span>"
      ],
      "text/plain": [
       "Correct"
      ]
     },
     "metadata": {},
     "output_type": "display_data"
    }
   ],
   "source": [
    "def multi_word_search(doc_list, keywords):\n",
    "    \"\"\"\n",
    "    Takes list of documents (each document is a string) and a list of keywords.  \n",
    "    Returns a dictionary where each key is a keyword, and the value is a list of indices\n",
    "    (from doc_list) of the documents containing that keyword\n",
    "\n",
    "    >>> doc_list = [\"The Learn Python Challenge Casino.\", \"They bought a car and a casino\", \"Casinoville\"]\n",
    "    >>> keywords = ['casino', 'they']\n",
    "    >>> multi_word_search(doc_list, keywords)\n",
    "    {'casino': [0, 1], 'they': [1]}\n",
    "    \"\"\"\n",
    "    indices={}\n",
    "    for keyword in keywords:\n",
    "        indices[keyword]=word_search(doc_list,keyword)\n",
    "    return indices\n",
    "\n",
    "# Check your answer\n",
    "q3.check()"
   ]
  },
  {
   "cell_type": "code",
   "execution_count": 12,
   "id": "042d71c6",
   "metadata": {
    "execution": {
     "iopub.execute_input": "2022-12-03T10:53:49.817708Z",
     "iopub.status.busy": "2022-12-03T10:53:49.817331Z",
     "iopub.status.idle": "2022-12-03T10:53:49.822786Z",
     "shell.execute_reply": "2022-12-03T10:53:49.821110Z"
    },
    "papermill": {
     "duration": 0.016884,
     "end_time": "2022-12-03T10:53:49.825196",
     "exception": false,
     "start_time": "2022-12-03T10:53:49.808312",
     "status": "completed"
    },
    "tags": []
   },
   "outputs": [],
   "source": [
    "#q3.solution()"
   ]
  },
  {
   "cell_type": "markdown",
   "id": "2030e7f8",
   "metadata": {
    "papermill": {
     "duration": 0.007143,
     "end_time": "2022-12-03T10:53:49.839866",
     "exception": false,
     "start_time": "2022-12-03T10:53:49.832723",
     "status": "completed"
    },
    "tags": []
   },
   "source": [
    "# Keep Going\n",
    "\n",
    "You've learned a lot. But even the best programmers rely heavily on \"libraries\" of code from other programmers. You'll learn about that in **[the last lesson](https://www.kaggle.com/colinmorris/working-with-external-libraries)**.\n"
   ]
  },
  {
   "cell_type": "markdown",
   "id": "421838af",
   "metadata": {
    "papermill": {
     "duration": 0.007052,
     "end_time": "2022-12-03T10:53:49.854393",
     "exception": false,
     "start_time": "2022-12-03T10:53:49.847341",
     "status": "completed"
    },
    "tags": []
   },
   "source": [
    "---\n",
    "\n",
    "\n",
    "\n",
    "\n",
    "*Have questions or comments? Visit the [course discussion forum](https://www.kaggle.com/learn/python/discussion) to chat with other learners.*"
   ]
  }
 ],
 "metadata": {
  "kernelspec": {
   "display_name": "Python 3",
   "language": "python",
   "name": "python3"
  },
  "language_info": {
   "codemirror_mode": {
    "name": "ipython",
    "version": 3
   },
   "file_extension": ".py",
   "mimetype": "text/x-python",
   "name": "python",
   "nbconvert_exporter": "python",
   "pygments_lexer": "ipython3",
   "version": "3.7.12"
  },
  "papermill": {
   "default_parameters": {},
   "duration": 10.655007,
   "end_time": "2022-12-03T10:53:50.785329",
   "environment_variables": {},
   "exception": null,
   "input_path": "__notebook__.ipynb",
   "output_path": "__notebook__.ipynb",
   "parameters": {},
   "start_time": "2022-12-03T10:53:40.130322",
   "version": "2.3.4"
  }
 },
 "nbformat": 4,
 "nbformat_minor": 5
}
