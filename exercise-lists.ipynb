{
 "cells": [
  {
   "cell_type": "markdown",
   "id": "072c88b2",
   "metadata": {
    "papermill": {
     "duration": 0.006683,
     "end_time": "2022-12-03T11:18:27.668037",
     "exception": false,
     "start_time": "2022-12-03T11:18:27.661354",
     "status": "completed"
    },
    "tags": []
   },
   "source": [
    "**This notebook is an exercise in the [Python](https://www.kaggle.com/learn/python) course.  You can reference the tutorial at [this link](https://www.kaggle.com/colinmorris/lists).**\n",
    "\n",
    "---\n"
   ]
  },
  {
   "cell_type": "markdown",
   "id": "48ceb7e1",
   "metadata": {
    "papermill": {
     "duration": 0.004546,
     "end_time": "2022-12-03T11:18:27.678344",
     "exception": false,
     "start_time": "2022-12-03T11:18:27.673798",
     "status": "completed"
    },
    "tags": []
   },
   "source": [
    "Things get more interesting with lists. You'll apply your new knowledge to solve the questions below. Remember to run the following cell first."
   ]
  },
  {
   "cell_type": "code",
   "execution_count": 1,
   "id": "fa3cdd34",
   "metadata": {
    "execution": {
     "iopub.execute_input": "2022-12-03T11:18:27.692316Z",
     "iopub.status.busy": "2022-12-03T11:18:27.690539Z",
     "iopub.status.idle": "2022-12-03T11:18:27.751395Z",
     "shell.execute_reply": "2022-12-03T11:18:27.750062Z"
    },
    "papermill": {
     "duration": 0.072053,
     "end_time": "2022-12-03T11:18:27.755256",
     "exception": false,
     "start_time": "2022-12-03T11:18:27.683203",
     "status": "completed"
    },
    "tags": []
   },
   "outputs": [
    {
     "name": "stdout",
     "output_type": "stream",
     "text": [
      "Setup complete.\n"
     ]
    }
   ],
   "source": [
    "from learntools.core import binder; binder.bind(globals())\n",
    "from learntools.python.ex4 import *\n",
    "print('Setup complete.')"
   ]
  },
  {
   "cell_type": "markdown",
   "id": "1ddb4cc5",
   "metadata": {
    "papermill": {
     "duration": 0.005815,
     "end_time": "2022-12-03T11:18:27.766925",
     "exception": false,
     "start_time": "2022-12-03T11:18:27.761110",
     "status": "completed"
    },
    "tags": []
   },
   "source": [
    "# 1.\n",
    "\n",
    "Complete the function below according to its docstring."
   ]
  },
  {
   "cell_type": "code",
   "execution_count": 2,
   "id": "72e940d4",
   "metadata": {
    "execution": {
     "iopub.execute_input": "2022-12-03T11:18:27.781192Z",
     "iopub.status.busy": "2022-12-03T11:18:27.780763Z",
     "iopub.status.idle": "2022-12-03T11:18:27.792441Z",
     "shell.execute_reply": "2022-12-03T11:18:27.791534Z"
    },
    "papermill": {
     "duration": 0.022248,
     "end_time": "2022-12-03T11:18:27.795848",
     "exception": false,
     "start_time": "2022-12-03T11:18:27.773600",
     "status": "completed"
    },
    "tags": []
   },
   "outputs": [
    {
     "data": {
      "application/javascript": [
       "parent.postMessage({\"jupyterEvent\": \"custom.exercise_interaction\", \"data\": {\"outcomeType\": 1, \"valueTowardsCompletion\": 0.2, \"interactionType\": 1, \"questionType\": 2, \"questionId\": \"1_SelectSecondItem\", \"learnToolsVersion\": \"0.3.4\", \"failureMessage\": \"\", \"exceptionClass\": \"\", \"trace\": \"\"}}, \"*\")"
      ],
      "text/plain": [
       "<IPython.core.display.Javascript object>"
      ]
     },
     "metadata": {},
     "output_type": "display_data"
    },
    {
     "data": {
      "text/markdown": [
       "<span style=\"color:#33cc33\">Correct</span>"
      ],
      "text/plain": [
       "Correct"
      ]
     },
     "metadata": {},
     "output_type": "display_data"
    }
   ],
   "source": [
    "def select_second(L):\n",
    "    \"\"\"Return the second element of the given list. If the list has no second\n",
    "    element, return None.\n",
    "    \"\"\"\n",
    "    if len(L) >=2:\n",
    "        return L[1]\n",
    "    else:\n",
    "        return None\n",
    "\n",
    "# Check your answer\n",
    "q1.check()"
   ]
  },
  {
   "cell_type": "code",
   "execution_count": 3,
   "id": "4137ee9e",
   "metadata": {
    "execution": {
     "iopub.execute_input": "2022-12-03T11:18:27.809050Z",
     "iopub.status.busy": "2022-12-03T11:18:27.808618Z",
     "iopub.status.idle": "2022-12-03T11:18:27.817772Z",
     "shell.execute_reply": "2022-12-03T11:18:27.816544Z"
    },
    "papermill": {
     "duration": 0.019437,
     "end_time": "2022-12-03T11:18:27.820551",
     "exception": false,
     "start_time": "2022-12-03T11:18:27.801114",
     "status": "completed"
    },
    "tags": []
   },
   "outputs": [
    {
     "data": {
      "application/javascript": [
       "parent.postMessage({\"jupyterEvent\": \"custom.exercise_interaction\", \"data\": {\"interactionType\": 3, \"questionType\": 2, \"questionId\": \"1_SelectSecondItem\", \"learnToolsVersion\": \"0.3.4\", \"valueTowardsCompletion\": 0.0, \"failureMessage\": \"\", \"exceptionClass\": \"\", \"trace\": \"\", \"outcomeType\": 4}}, \"*\")"
      ],
      "text/plain": [
       "<IPython.core.display.Javascript object>"
      ]
     },
     "metadata": {},
     "output_type": "display_data"
    },
    {
     "data": {
      "text/markdown": [
       "<span style=\"color:#33cc99\">Solution:</span> \n",
       "```python\n",
       "def select_second(L):\n",
       "    if len(L) < 2:\n",
       "        return None\n",
       "    return L[1]\n",
       "```"
      ],
      "text/plain": [
       "Solution: \n",
       "```python\n",
       "def select_second(L):\n",
       "    if len(L) < 2:\n",
       "        return None\n",
       "    return L[1]\n",
       "```"
      ]
     },
     "metadata": {},
     "output_type": "display_data"
    }
   ],
   "source": [
    "#q1.hint()\n",
    "q1.solution()"
   ]
  },
  {
   "cell_type": "markdown",
   "id": "620c9597",
   "metadata": {
    "papermill": {
     "duration": 0.005427,
     "end_time": "2022-12-03T11:18:27.831529",
     "exception": false,
     "start_time": "2022-12-03T11:18:27.826102",
     "status": "completed"
    },
    "tags": []
   },
   "source": [
    "# 2.\n",
    "\n",
    "You are analyzing sports teams.  Members of each team are stored in a list. The Coach is the first name in the list, the captain is the second name in the list, and other players are listed after that. \n",
    "These lists are stored in another list, which starts with the best team and proceeds through the list to the worst team last.  Complete the function below to select the **captain** of the worst team."
   ]
  },
  {
   "cell_type": "code",
   "execution_count": 4,
   "id": "48bfff04",
   "metadata": {
    "execution": {
     "iopub.execute_input": "2022-12-03T11:18:27.845897Z",
     "iopub.status.busy": "2022-12-03T11:18:27.845170Z",
     "iopub.status.idle": "2022-12-03T11:18:27.855264Z",
     "shell.execute_reply": "2022-12-03T11:18:27.854027Z"
    },
    "papermill": {
     "duration": 0.02055,
     "end_time": "2022-12-03T11:18:27.858004",
     "exception": false,
     "start_time": "2022-12-03T11:18:27.837454",
     "status": "completed"
    },
    "tags": []
   },
   "outputs": [
    {
     "data": {
      "application/javascript": [
       "parent.postMessage({\"jupyterEvent\": \"custom.exercise_interaction\", \"data\": {\"outcomeType\": 1, \"valueTowardsCompletion\": 0.2, \"interactionType\": 1, \"questionType\": 2, \"questionId\": \"2_LosingTeamCaptain\", \"learnToolsVersion\": \"0.3.4\", \"failureMessage\": \"\", \"exceptionClass\": \"\", \"trace\": \"\"}}, \"*\")"
      ],
      "text/plain": [
       "<IPython.core.display.Javascript object>"
      ]
     },
     "metadata": {},
     "output_type": "display_data"
    },
    {
     "data": {
      "text/markdown": [
       "<span style=\"color:#33cc33\">Correct</span>"
      ],
      "text/plain": [
       "Correct"
      ]
     },
     "metadata": {},
     "output_type": "display_data"
    }
   ],
   "source": [
    "def losing_team_captain(teams):\n",
    "    \"\"\"Given a list of teams, where each team is a list of names, return the 2nd player (captain)\n",
    "    from the last listed team\n",
    "    \"\"\"\n",
    "    return teams[-1][1]\n",
    "\n",
    "# Check your answer\n",
    "q2.check()"
   ]
  },
  {
   "cell_type": "code",
   "execution_count": 5,
   "id": "27b171ea",
   "metadata": {
    "collapsed": true,
    "execution": {
     "iopub.execute_input": "2022-12-03T11:18:27.872466Z",
     "iopub.status.busy": "2022-12-03T11:18:27.871857Z",
     "iopub.status.idle": "2022-12-03T11:18:27.878238Z",
     "shell.execute_reply": "2022-12-03T11:18:27.876132Z"
    },
    "jupyter": {
     "outputs_hidden": true
    },
    "papermill": {
     "duration": 0.016576,
     "end_time": "2022-12-03T11:18:27.880962",
     "exception": false,
     "start_time": "2022-12-03T11:18:27.864386",
     "status": "completed"
    },
    "tags": []
   },
   "outputs": [],
   "source": [
    "#q2.hint()\n",
    "#q2.solution()"
   ]
  },
  {
   "cell_type": "markdown",
   "id": "3633cdc7",
   "metadata": {
    "papermill": {
     "duration": 0.006279,
     "end_time": "2022-12-03T11:18:27.893420",
     "exception": false,
     "start_time": "2022-12-03T11:18:27.887141",
     "status": "completed"
    },
    "tags": []
   },
   "source": [
    "# 3.\n",
    "\n",
    "The next iteration of Mario Kart will feature an extra-infuriating new item, the *Purple Shell*. When used, it warps the last place racer into first place and the first place racer into last place. Complete the function below to implement the Purple Shell's effect."
   ]
  },
  {
   "cell_type": "code",
   "execution_count": 6,
   "id": "e653c00a",
   "metadata": {
    "execution": {
     "iopub.execute_input": "2022-12-03T11:18:27.908750Z",
     "iopub.status.busy": "2022-12-03T11:18:27.908250Z",
     "iopub.status.idle": "2022-12-03T11:18:27.920013Z",
     "shell.execute_reply": "2022-12-03T11:18:27.918597Z"
    },
    "papermill": {
     "duration": 0.022658,
     "end_time": "2022-12-03T11:18:27.922575",
     "exception": false,
     "start_time": "2022-12-03T11:18:27.899917",
     "status": "completed"
    },
    "tags": []
   },
   "outputs": [
    {
     "data": {
      "application/javascript": [
       "parent.postMessage({\"jupyterEvent\": \"custom.exercise_interaction\", \"data\": {\"outcomeType\": 1, \"valueTowardsCompletion\": 0.2, \"interactionType\": 1, \"questionType\": 2, \"questionId\": \"3_PurpleShell\", \"learnToolsVersion\": \"0.3.4\", \"failureMessage\": \"\", \"exceptionClass\": \"\", \"trace\": \"\"}}, \"*\")"
      ],
      "text/plain": [
       "<IPython.core.display.Javascript object>"
      ]
     },
     "metadata": {},
     "output_type": "display_data"
    },
    {
     "data": {
      "text/markdown": [
       "<span style=\"color:#33cc33\">Correct</span>"
      ],
      "text/plain": [
       "Correct"
      ]
     },
     "metadata": {},
     "output_type": "display_data"
    }
   ],
   "source": [
    "def purple_shell(racers):\n",
    "    \"\"\"Given a list of racers, set the first place racer (at the front of the list) to last\n",
    "    place and vice versa.\n",
    "    \n",
    "    >>> r = [\"Mario\", \"Bowser\", \"Luigi\"]\n",
    "    >>> purple_shell(r)\n",
    "    >>> r\n",
    "    [\"Luigi\", \"Bowser\", \"Mario\"]\n",
    "    \"\"\"\n",
    "    temp=racers[0]\n",
    "    racers[0]=racers[-1]\n",
    "    racers[-1]=temp\n",
    "\n",
    "# Check your answer\n",
    "q3.check()"
   ]
  },
  {
   "cell_type": "code",
   "execution_count": 7,
   "id": "4a278847",
   "metadata": {
    "collapsed": true,
    "execution": {
     "iopub.execute_input": "2022-12-03T11:18:27.938139Z",
     "iopub.status.busy": "2022-12-03T11:18:27.937738Z",
     "iopub.status.idle": "2022-12-03T11:18:27.943147Z",
     "shell.execute_reply": "2022-12-03T11:18:27.941757Z"
    },
    "jupyter": {
     "outputs_hidden": true
    },
    "papermill": {
     "duration": 0.017069,
     "end_time": "2022-12-03T11:18:27.945916",
     "exception": false,
     "start_time": "2022-12-03T11:18:27.928847",
     "status": "completed"
    },
    "tags": []
   },
   "outputs": [],
   "source": [
    "#q3.hint()\n",
    "#q3.solution()"
   ]
  },
  {
   "cell_type": "markdown",
   "id": "b2e5d135",
   "metadata": {
    "papermill": {
     "duration": 0.006792,
     "end_time": "2022-12-03T11:18:27.958795",
     "exception": false,
     "start_time": "2022-12-03T11:18:27.952003",
     "status": "completed"
    },
    "tags": []
   },
   "source": [
    "# 4.\n",
    "\n",
    "What are the lengths of the following lists? Fill in the variable `lengths` with your predictions. (Try to make a prediction for each list *without* just calling `len()` on it.)"
   ]
  },
  {
   "cell_type": "code",
   "execution_count": 8,
   "id": "98326c52",
   "metadata": {
    "execution": {
     "iopub.execute_input": "2022-12-03T11:18:27.974054Z",
     "iopub.status.busy": "2022-12-03T11:18:27.973543Z",
     "iopub.status.idle": "2022-12-03T11:18:27.985038Z",
     "shell.execute_reply": "2022-12-03T11:18:27.983919Z"
    },
    "papermill": {
     "duration": 0.021939,
     "end_time": "2022-12-03T11:18:27.987387",
     "exception": false,
     "start_time": "2022-12-03T11:18:27.965448",
     "status": "completed"
    },
    "tags": []
   },
   "outputs": [
    {
     "data": {
      "application/javascript": [
       "parent.postMessage({\"jupyterEvent\": \"custom.exercise_interaction\", \"data\": {\"outcomeType\": 1, \"valueTowardsCompletion\": 0.2, \"interactionType\": 1, \"questionType\": 1, \"questionId\": \"4_UnderstandLen\", \"learnToolsVersion\": \"0.3.4\", \"failureMessage\": \"\", \"exceptionClass\": \"\", \"trace\": \"\"}}, \"*\")"
      ],
      "text/plain": [
       "<IPython.core.display.Javascript object>"
      ]
     },
     "metadata": {},
     "output_type": "display_data"
    },
    {
     "data": {
      "text/markdown": [
       "<span style=\"color:#33cc33\">Correct:</span> \n",
       "\n",
       "\n",
       "- a: There are three items in this list. Nothing tricky yet.\n",
       "- b: The list `[2, 3]` counts as a single item. It has one item before it. So we have 2 items in the list\n",
       "- c: The empty list has 0 items\n",
       "- d: The expression is the same as the list `[2, 3]`, which has length 2."
      ],
      "text/plain": [
       "Correct: \n",
       "\n",
       "\n",
       "- a: There are three items in this list. Nothing tricky yet.\n",
       "- b: The list `[2, 3]` counts as a single item. It has one item before it. So we have 2 items in the list\n",
       "- c: The empty list has 0 items\n",
       "- d: The expression is the same as the list `[2, 3]`, which has length 2."
      ]
     },
     "metadata": {},
     "output_type": "display_data"
    }
   ],
   "source": [
    "a = [1, 2, 3]\n",
    "b = [1, [2, 3]]\n",
    "c = []\n",
    "d = [1, 2, 3][1:]\n",
    "\n",
    "# Put your predictions in the list below. Lengths should contain 4 numbers, the\n",
    "# first being the length of a, the second being the length of b and so on.\n",
    "lengths = [3,2,0,2]\n",
    "\n",
    "# Check your answer\n",
    "q4.check()"
   ]
  },
  {
   "cell_type": "code",
   "execution_count": 9,
   "id": "a2550951",
   "metadata": {
    "collapsed": true,
    "execution": {
     "iopub.execute_input": "2022-12-03T11:18:28.003220Z",
     "iopub.status.busy": "2022-12-03T11:18:28.002791Z",
     "iopub.status.idle": "2022-12-03T11:18:28.007270Z",
     "shell.execute_reply": "2022-12-03T11:18:28.006300Z"
    },
    "jupyter": {
     "outputs_hidden": true
    },
    "papermill": {
     "duration": 0.015364,
     "end_time": "2022-12-03T11:18:28.009800",
     "exception": false,
     "start_time": "2022-12-03T11:18:27.994436",
     "status": "completed"
    },
    "tags": []
   },
   "outputs": [],
   "source": [
    "# line below provides some explanation\n",
    "#q4.solution()"
   ]
  },
  {
   "cell_type": "markdown",
   "id": "d3493f23",
   "metadata": {
    "papermill": {
     "duration": 0.006712,
     "end_time": "2022-12-03T11:18:28.023963",
     "exception": false,
     "start_time": "2022-12-03T11:18:28.017251",
     "status": "completed"
    },
    "tags": []
   },
   "source": [
    "# 5. <span title=\"A bit spicy\" style=\"color: darkgreen \">🌶️</span>\n",
    "\n",
    "We're using lists to record people who attended our party and what order they arrived in. For example, the following list represents a party with 7 guests, in which Adela showed up first and Ford was the last to arrive:\n",
    "\n",
    "    party_attendees = ['Adela', 'Fleda', 'Owen', 'May', 'Mona', 'Gilbert', 'Ford']\n",
    "\n",
    "A guest is considered 'fashionably late' if they arrived after at least half of the party's guests. However, they must not be the very last guest (that's taking it too far). In the above example, Mona and Gilbert are the only guests who were fashionably late.\n",
    "\n",
    "Complete the function below which takes a list of party attendees as well as a person, and tells us whether that person is fashionably late."
   ]
  },
  {
   "cell_type": "code",
   "execution_count": 10,
   "id": "50d643b8",
   "metadata": {
    "execution": {
     "iopub.execute_input": "2022-12-03T11:18:28.039310Z",
     "iopub.status.busy": "2022-12-03T11:18:28.038861Z",
     "iopub.status.idle": "2022-12-03T11:18:28.049380Z",
     "shell.execute_reply": "2022-12-03T11:18:28.048042Z"
    },
    "papermill": {
     "duration": 0.02094,
     "end_time": "2022-12-03T11:18:28.051912",
     "exception": false,
     "start_time": "2022-12-03T11:18:28.030972",
     "status": "completed"
    },
    "tags": []
   },
   "outputs": [
    {
     "data": {
      "application/javascript": [
       "parent.postMessage({\"jupyterEvent\": \"custom.exercise_interaction\", \"data\": {\"outcomeType\": 1, \"valueTowardsCompletion\": 0.2, \"interactionType\": 1, \"questionType\": 2, \"questionId\": \"5_FashionablyLate\", \"learnToolsVersion\": \"0.3.4\", \"failureMessage\": \"\", \"exceptionClass\": \"\", \"trace\": \"\"}}, \"*\")"
      ],
      "text/plain": [
       "<IPython.core.display.Javascript object>"
      ]
     },
     "metadata": {},
     "output_type": "display_data"
    },
    {
     "data": {
      "text/markdown": [
       "<span style=\"color:#33cc33\">Correct</span>"
      ],
      "text/plain": [
       "Correct"
      ]
     },
     "metadata": {},
     "output_type": "display_data"
    }
   ],
   "source": [
    "def fashionably_late(arrivals, name):\n",
    "    \"\"\"Given an ordered list of arrivals to the party and a name, return whether the guest with that\n",
    "    name was fashionably late.\n",
    "    \"\"\"\n",
    "    return arrivals.index(name)>= len(arrivals)/2 and arrivals.index(name)!= (len(arrivals)-1)\n",
    "\n",
    "# Check your answer\n",
    "q5.check()"
   ]
  },
  {
   "cell_type": "code",
   "execution_count": 11,
   "id": "e76b021b",
   "metadata": {
    "collapsed": true,
    "execution": {
     "iopub.execute_input": "2022-12-03T11:18:28.067363Z",
     "iopub.status.busy": "2022-12-03T11:18:28.066869Z",
     "iopub.status.idle": "2022-12-03T11:18:28.072433Z",
     "shell.execute_reply": "2022-12-03T11:18:28.070957Z"
    },
    "jupyter": {
     "outputs_hidden": true
    },
    "papermill": {
     "duration": 0.016753,
     "end_time": "2022-12-03T11:18:28.075351",
     "exception": false,
     "start_time": "2022-12-03T11:18:28.058598",
     "status": "completed"
    },
    "tags": []
   },
   "outputs": [],
   "source": [
    "#q5.hint()\n",
    "#q5.solution()"
   ]
  },
  {
   "cell_type": "markdown",
   "id": "5271c902",
   "metadata": {
    "papermill": {
     "duration": 0.007644,
     "end_time": "2022-12-03T11:18:28.089737",
     "exception": false,
     "start_time": "2022-12-03T11:18:28.082093",
     "status": "completed"
    },
    "tags": []
   },
   "source": [
    "# Keep Going\n",
    "\n",
    "That's it for lists and tuples! Now you have the baseline knowledge to **[learn about loops](https://www.kaggle.com/colinmorris/loops-and-list-comprehensions)**, which is where lists and tuples get really interesting. "
   ]
  },
  {
   "cell_type": "markdown",
   "id": "50806849",
   "metadata": {
    "papermill": {
     "duration": 0.007799,
     "end_time": "2022-12-03T11:18:28.104702",
     "exception": false,
     "start_time": "2022-12-03T11:18:28.096903",
     "status": "completed"
    },
    "tags": []
   },
   "source": [
    "---\n",
    "\n",
    "\n",
    "\n",
    "\n",
    "*Have questions or comments? Visit the [course discussion forum](https://www.kaggle.com/learn/python/discussion) to chat with other learners.*"
   ]
  }
 ],
 "metadata": {
  "kernelspec": {
   "display_name": "Python 3",
   "language": "python",
   "name": "python3"
  },
  "language_info": {
   "codemirror_mode": {
    "name": "ipython",
    "version": 3
   },
   "file_extension": ".py",
   "mimetype": "text/x-python",
   "name": "python",
   "nbconvert_exporter": "python",
   "pygments_lexer": "ipython3",
   "version": "3.7.12"
  },
  "papermill": {
   "default_parameters": {},
   "duration": 10.95788,
   "end_time": "2022-12-03T11:18:28.837217",
   "environment_variables": {},
   "exception": null,
   "input_path": "__notebook__.ipynb",
   "output_path": "__notebook__.ipynb",
   "parameters": {},
   "start_time": "2022-12-03T11:18:17.879337",
   "version": "2.3.4"
  }
 },
 "nbformat": 4,
 "nbformat_minor": 5
}
