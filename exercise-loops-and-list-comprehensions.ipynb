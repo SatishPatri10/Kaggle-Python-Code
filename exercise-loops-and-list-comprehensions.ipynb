{
 "cells": [
  {
   "cell_type": "markdown",
   "id": "cea932c4",
   "metadata": {
    "papermill": {
     "duration": 0.007975,
     "end_time": "2022-12-03T11:30:11.465136",
     "exception": false,
     "start_time": "2022-12-03T11:30:11.457161",
     "status": "completed"
    },
    "tags": []
   },
   "source": [
    "**This notebook is an exercise in the [Python](https://www.kaggle.com/learn/python) course.  You can reference the tutorial at [this link](https://www.kaggle.com/colinmorris/loops-and-list-comprehensions).**\n",
    "\n",
    "---\n"
   ]
  },
  {
   "cell_type": "markdown",
   "id": "ea9fc9a7",
   "metadata": {
    "papermill": {
     "duration": 0.006399,
     "end_time": "2022-12-03T11:30:11.477589",
     "exception": false,
     "start_time": "2022-12-03T11:30:11.471190",
     "status": "completed"
    },
    "tags": []
   },
   "source": [
    "With all you've learned, you can start writing much more interesting programs. See if you can solve the problems below.\n",
    "\n",
    "As always, run the setup code below before working on the questions."
   ]
  },
  {
   "cell_type": "code",
   "execution_count": 1,
   "id": "76cf39d6",
   "metadata": {
    "execution": {
     "iopub.execute_input": "2022-12-03T11:30:11.493240Z",
     "iopub.status.busy": "2022-12-03T11:30:11.492682Z",
     "iopub.status.idle": "2022-12-03T11:30:11.581136Z",
     "shell.execute_reply": "2022-12-03T11:30:11.579635Z"
    },
    "papermill": {
     "duration": 0.10201,
     "end_time": "2022-12-03T11:30:11.586389",
     "exception": false,
     "start_time": "2022-12-03T11:30:11.484379",
     "status": "completed"
    },
    "tags": []
   },
   "outputs": [
    {
     "name": "stdout",
     "output_type": "stream",
     "text": [
      "Setup complete.\n"
     ]
    }
   ],
   "source": [
    "from learntools.core import binder; binder.bind(globals())\n",
    "from learntools.python.ex5 import *\n",
    "print('Setup complete.')"
   ]
  },
  {
   "cell_type": "markdown",
   "id": "df464960",
   "metadata": {
    "papermill": {
     "duration": 0.00615,
     "end_time": "2022-12-03T11:30:11.599248",
     "exception": false,
     "start_time": "2022-12-03T11:30:11.593098",
     "status": "completed"
    },
    "tags": []
   },
   "source": [
    "# 1.\n",
    "\n",
    "Have you ever felt debugging involved a bit of luck? The following program has a bug. Try to identify the bug and fix it."
   ]
  },
  {
   "cell_type": "code",
   "execution_count": 2,
   "id": "4cab02ba",
   "metadata": {
    "execution": {
     "iopub.execute_input": "2022-12-03T11:30:11.615693Z",
     "iopub.status.busy": "2022-12-03T11:30:11.614441Z",
     "iopub.status.idle": "2022-12-03T11:30:11.621245Z",
     "shell.execute_reply": "2022-12-03T11:30:11.620164Z"
    },
    "papermill": {
     "duration": 0.019479,
     "end_time": "2022-12-03T11:30:11.625371",
     "exception": false,
     "start_time": "2022-12-03T11:30:11.605892",
     "status": "completed"
    },
    "tags": []
   },
   "outputs": [],
   "source": [
    "def has_lucky_number(nums):\n",
    "    \"\"\"Return whether the given list of numbers is lucky. A lucky list contains\n",
    "    at least one number divisible by 7.\n",
    "    \"\"\"\n",
    "    for num in nums:\n",
    "        if num % 7 == 0:\n",
    "            return True\n",
    "    return False"
   ]
  },
  {
   "cell_type": "markdown",
   "id": "85c08d09",
   "metadata": {
    "papermill": {
     "duration": 0.005649,
     "end_time": "2022-12-03T11:30:11.637654",
     "exception": false,
     "start_time": "2022-12-03T11:30:11.632005",
     "status": "completed"
    },
    "tags": []
   },
   "source": [
    "Try to identify the bug and fix it in the cell below:"
   ]
  },
  {
   "cell_type": "code",
   "execution_count": 3,
   "id": "c99eff59",
   "metadata": {
    "execution": {
     "iopub.execute_input": "2022-12-03T11:30:11.652534Z",
     "iopub.status.busy": "2022-12-03T11:30:11.651591Z",
     "iopub.status.idle": "2022-12-03T11:30:11.666931Z",
     "shell.execute_reply": "2022-12-03T11:30:11.665525Z"
    },
    "papermill": {
     "duration": 0.026042,
     "end_time": "2022-12-03T11:30:11.669820",
     "exception": false,
     "start_time": "2022-12-03T11:30:11.643778",
     "status": "completed"
    },
    "tags": []
   },
   "outputs": [
    {
     "data": {
      "application/javascript": [
       "parent.postMessage({\"jupyterEvent\": \"custom.exercise_interaction\", \"data\": {\"outcomeType\": 1, \"valueTowardsCompletion\": 0.25, \"interactionType\": 1, \"questionType\": 2, \"questionId\": \"1_EarlyExitDebugging\", \"learnToolsVersion\": \"0.3.4\", \"failureMessage\": \"\", \"exceptionClass\": \"\", \"trace\": \"\"}}, \"*\")"
      ],
      "text/plain": [
       "<IPython.core.display.Javascript object>"
      ]
     },
     "metadata": {},
     "output_type": "display_data"
    },
    {
     "data": {
      "text/markdown": [
       "<span style=\"color:#33cc33\">Correct:</span> \n",
       "\n",
       "Remember that `return` causes a function to exit immediately. So our original implementation always ran for just one iteration. We can only return `False` if we've looked at every element of the list (and confirmed that none of them are lucky). Though we can return early if the answer is `True`:\n",
       "\n",
       "```python\n",
       "def has_lucky_number(nums):\n",
       "    for num in nums:\n",
       "        if num % 7 == 0:\n",
       "            return True\n",
       "    # We've exhausted the list without finding a lucky number\n",
       "    return False\n",
       "```\n",
       "\n",
       "Here's a one-line version using a list comprehension with Python's `any` function (you can read about what it does by calling `help(any)`):\n",
       "\n",
       "```python\n",
       "def has_lucky_number(nums):\n",
       "    return any([num % 7 == 0 for num in nums])\n",
       "```\n"
      ],
      "text/plain": [
       "Correct: \n",
       "\n",
       "Remember that `return` causes a function to exit immediately. So our original implementation always ran for just one iteration. We can only return `False` if we've looked at every element of the list (and confirmed that none of them are lucky). Though we can return early if the answer is `True`:\n",
       "\n",
       "```python\n",
       "def has_lucky_number(nums):\n",
       "    for num in nums:\n",
       "        if num % 7 == 0:\n",
       "            return True\n",
       "    # We've exhausted the list without finding a lucky number\n",
       "    return False\n",
       "```\n",
       "\n",
       "Here's a one-line version using a list comprehension with Python's `any` function (you can read about what it does by calling `help(any)`):\n",
       "\n",
       "```python\n",
       "def has_lucky_number(nums):\n",
       "    return any([num % 7 == 0 for num in nums])\n",
       "```"
      ]
     },
     "metadata": {},
     "output_type": "display_data"
    }
   ],
   "source": [
    "def has_lucky_number(nums):\n",
    "    \"\"\"Return whether the given list of numbers is lucky. A lucky list contains\n",
    "    at least one number divisible by 7.\n",
    "    \"\"\"\n",
    "    for num in nums:\n",
    "        if num % 7 == 0:\n",
    "            return True\n",
    "    return False\n",
    "\n",
    "# Check your answer\n",
    "q1.check()"
   ]
  },
  {
   "cell_type": "code",
   "execution_count": 4,
   "id": "6ed79f6e",
   "metadata": {
    "execution": {
     "iopub.execute_input": "2022-12-03T11:30:11.684417Z",
     "iopub.status.busy": "2022-12-03T11:30:11.683969Z",
     "iopub.status.idle": "2022-12-03T11:30:11.689929Z",
     "shell.execute_reply": "2022-12-03T11:30:11.687605Z"
    },
    "papermill": {
     "duration": 0.01669,
     "end_time": "2022-12-03T11:30:11.692776",
     "exception": false,
     "start_time": "2022-12-03T11:30:11.676086",
     "status": "completed"
    },
    "tags": []
   },
   "outputs": [],
   "source": [
    "#q1.hint()\n",
    "#q1.solution()"
   ]
  },
  {
   "cell_type": "markdown",
   "id": "dc927576",
   "metadata": {
    "papermill": {
     "duration": 0.007514,
     "end_time": "2022-12-03T11:30:11.708010",
     "exception": false,
     "start_time": "2022-12-03T11:30:11.700496",
     "status": "completed"
    },
    "tags": []
   },
   "source": [
    "# 2.\n",
    "Look at the Python expression below. What do you think we'll get when we run it? When you've made your prediction, uncomment the code and run the cell to see if you were right."
   ]
  },
  {
   "cell_type": "code",
   "execution_count": 5,
   "id": "45881aee",
   "metadata": {
    "execution": {
     "iopub.execute_input": "2022-12-03T11:30:11.723013Z",
     "iopub.status.busy": "2022-12-03T11:30:11.722240Z",
     "iopub.status.idle": "2022-12-03T11:30:11.728716Z",
     "shell.execute_reply": "2022-12-03T11:30:11.727156Z"
    },
    "papermill": {
     "duration": 0.017344,
     "end_time": "2022-12-03T11:30:11.731632",
     "exception": false,
     "start_time": "2022-12-03T11:30:11.714288",
     "status": "completed"
    },
    "tags": []
   },
   "outputs": [],
   "source": [
    "# [1, 2, 3, 4] > 2"
   ]
  },
  {
   "cell_type": "markdown",
   "id": "58fbd7ae",
   "metadata": {
    "papermill": {
     "duration": 0.006701,
     "end_time": "2022-12-03T11:30:11.745325",
     "exception": false,
     "start_time": "2022-12-03T11:30:11.738624",
     "status": "completed"
    },
    "tags": []
   },
   "source": [
    "R and Python have some libraries (like numpy and pandas) compare each element of the list to 2 (i.e. do an 'element-wise' comparison) and give us a list of booleans like `[False, False, True, True]`. \n",
    "\n",
    "Implement a function that reproduces this behaviour, returning a list of booleans corresponding to whether the corresponding element is greater than n."
   ]
  },
  {
   "cell_type": "code",
   "execution_count": 6,
   "id": "2b99ea03",
   "metadata": {
    "execution": {
     "iopub.execute_input": "2022-12-03T11:30:11.759647Z",
     "iopub.status.busy": "2022-12-03T11:30:11.759252Z",
     "iopub.status.idle": "2022-12-03T11:30:11.771229Z",
     "shell.execute_reply": "2022-12-03T11:30:11.769166Z"
    },
    "papermill": {
     "duration": 0.023133,
     "end_time": "2022-12-03T11:30:11.774643",
     "exception": false,
     "start_time": "2022-12-03T11:30:11.751510",
     "status": "completed"
    },
    "tags": []
   },
   "outputs": [
    {
     "data": {
      "application/javascript": [
       "parent.postMessage({\"jupyterEvent\": \"custom.exercise_interaction\", \"data\": {\"outcomeType\": 1, \"valueTowardsCompletion\": 0.25, \"interactionType\": 1, \"questionType\": 2, \"questionId\": \"2_ElementWiseComparison\", \"learnToolsVersion\": \"0.3.4\", \"failureMessage\": \"\", \"exceptionClass\": \"\", \"trace\": \"\"}}, \"*\")"
      ],
      "text/plain": [
       "<IPython.core.display.Javascript object>"
      ]
     },
     "metadata": {},
     "output_type": "display_data"
    },
    {
     "data": {
      "text/markdown": [
       "<span style=\"color:#33cc33\">Correct:</span> \n",
       "\n",
       "Here's one solution:\n",
       "```python\n",
       "def elementwise_greater_than(L, thresh):\n",
       "    res = []\n",
       "    for ele in L:\n",
       "        res.append(ele > thresh)\n",
       "    return res\n",
       "```\n",
       "\n",
       "And here's the list comprehension version:\n",
       "```python\n",
       "def elementwise_greater_than(L, thresh):\n",
       "    return [ele > thresh for ele in L]\n",
       "```\n"
      ],
      "text/plain": [
       "Correct: \n",
       "\n",
       "Here's one solution:\n",
       "```python\n",
       "def elementwise_greater_than(L, thresh):\n",
       "    res = []\n",
       "    for ele in L:\n",
       "        res.append(ele > thresh)\n",
       "    return res\n",
       "```\n",
       "\n",
       "And here's the list comprehension version:\n",
       "```python\n",
       "def elementwise_greater_than(L, thresh):\n",
       "    return [ele > thresh for ele in L]\n",
       "```"
      ]
     },
     "metadata": {},
     "output_type": "display_data"
    }
   ],
   "source": [
    "def elementwise_greater_than(L, thresh):\n",
    "    \"\"\"Return a list with the same length as L, where the value at index i is \n",
    "    True if L[i] is greater than thresh, and False otherwise.\n",
    "    \n",
    "    >>> elementwise_greater_than([1, 2, 3, 4], 2)\n",
    "    [False, False, True, True]\n",
    "    \"\"\"\n",
    "    list=[]\n",
    "    for n in L:\n",
    "        list.append(n>thresh)    \n",
    "    return list\n",
    "\n",
    "# Check your answer\n",
    "q2.check()"
   ]
  },
  {
   "cell_type": "code",
   "execution_count": 7,
   "id": "3c8bfeaf",
   "metadata": {
    "execution": {
     "iopub.execute_input": "2022-12-03T11:30:11.791292Z",
     "iopub.status.busy": "2022-12-03T11:30:11.790366Z",
     "iopub.status.idle": "2022-12-03T11:30:11.799487Z",
     "shell.execute_reply": "2022-12-03T11:30:11.797946Z"
    },
    "papermill": {
     "duration": 0.020194,
     "end_time": "2022-12-03T11:30:11.802315",
     "exception": false,
     "start_time": "2022-12-03T11:30:11.782121",
     "status": "completed"
    },
    "tags": []
   },
   "outputs": [
    {
     "data": {
      "application/javascript": [
       "parent.postMessage({\"jupyterEvent\": \"custom.exercise_interaction\", \"data\": {\"interactionType\": 3, \"questionType\": 2, \"questionId\": \"2_ElementWiseComparison\", \"learnToolsVersion\": \"0.3.4\", \"valueTowardsCompletion\": 0.0, \"failureMessage\": \"\", \"exceptionClass\": \"\", \"trace\": \"\", \"outcomeType\": 4}}, \"*\")"
      ],
      "text/plain": [
       "<IPython.core.display.Javascript object>"
      ]
     },
     "metadata": {},
     "output_type": "display_data"
    },
    {
     "data": {
      "text/markdown": [
       "<span style=\"color:#33cc99\">Solution:</span> Here's one solution:\n",
       "```python\n",
       "def elementwise_greater_than(L, thresh):\n",
       "    res = []\n",
       "    for ele in L:\n",
       "        res.append(ele > thresh)\n",
       "    return res\n",
       "```\n",
       "\n",
       "And here's the list comprehension version:\n",
       "```python\n",
       "def elementwise_greater_than(L, thresh):\n",
       "    return [ele > thresh for ele in L]\n",
       "```\n"
      ],
      "text/plain": [
       "Solution: Here's one solution:\n",
       "```python\n",
       "def elementwise_greater_than(L, thresh):\n",
       "    res = []\n",
       "    for ele in L:\n",
       "        res.append(ele > thresh)\n",
       "    return res\n",
       "```\n",
       "\n",
       "And here's the list comprehension version:\n",
       "```python\n",
       "def elementwise_greater_than(L, thresh):\n",
       "    return [ele > thresh for ele in L]\n",
       "```"
      ]
     },
     "metadata": {},
     "output_type": "display_data"
    }
   ],
   "source": [
    "q2.solution()"
   ]
  },
  {
   "cell_type": "markdown",
   "id": "323b6333",
   "metadata": {
    "papermill": {
     "duration": 0.007009,
     "end_time": "2022-12-03T11:30:11.817303",
     "exception": false,
     "start_time": "2022-12-03T11:30:11.810294",
     "status": "completed"
    },
    "tags": []
   },
   "source": [
    "# 3.\n",
    "\n",
    "Complete the body of the function below according to its docstring."
   ]
  },
  {
   "cell_type": "code",
   "execution_count": 8,
   "id": "8a8a83b3",
   "metadata": {
    "execution": {
     "iopub.execute_input": "2022-12-03T11:30:11.837174Z",
     "iopub.status.busy": "2022-12-03T11:30:11.834839Z",
     "iopub.status.idle": "2022-12-03T11:30:11.848287Z",
     "shell.execute_reply": "2022-12-03T11:30:11.846553Z"
    },
    "papermill": {
     "duration": 0.029361,
     "end_time": "2022-12-03T11:30:11.853653",
     "exception": false,
     "start_time": "2022-12-03T11:30:11.824292",
     "status": "completed"
    },
    "tags": []
   },
   "outputs": [
    {
     "data": {
      "application/javascript": [
       "parent.postMessage({\"jupyterEvent\": \"custom.exercise_interaction\", \"data\": {\"outcomeType\": 1, \"valueTowardsCompletion\": 0.25, \"interactionType\": 1, \"questionType\": 2, \"questionId\": \"3_BoringMenu\", \"learnToolsVersion\": \"0.3.4\", \"failureMessage\": \"\", \"exceptionClass\": \"\", \"trace\": \"\"}}, \"*\")"
      ],
      "text/plain": [
       "<IPython.core.display.Javascript object>"
      ]
     },
     "metadata": {},
     "output_type": "display_data"
    },
    {
     "data": {
      "text/markdown": [
       "<span style=\"color:#33cc33\">Correct:</span> \n",
       "\n",
       "\n",
       "\n",
       "```python\n",
       "def menu_is_boring(meals):\n",
       "    # Iterate over all indices of the list, except the last one\n",
       "    for i in range(len(meals)-1):\n",
       "        if meals[i] == meals[i+1]:\n",
       "            return True\n",
       "    return False\n",
       "```\n",
       "\n",
       "The key to our solution is the call to `range`. `range(len(meals))` would give us all the indices of `meals`. If we had used that range, the last iteration of the loop would be comparing the last element to the element after it, which is... `IndexError`! `range(len(meals)-1)` gives us all the indices except the index of the last element.\n",
       "\n",
       "But don't we need to check if `meals` is empty? Turns out that `range(0) == range(-1)` - they're both empty. So if `meals` has length 0 or 1, we just won't do any iterations of our for loop.\n"
      ],
      "text/plain": [
       "Correct: \n",
       "\n",
       "\n",
       "\n",
       "```python\n",
       "def menu_is_boring(meals):\n",
       "    # Iterate over all indices of the list, except the last one\n",
       "    for i in range(len(meals)-1):\n",
       "        if meals[i] == meals[i+1]:\n",
       "            return True\n",
       "    return False\n",
       "```\n",
       "\n",
       "The key to our solution is the call to `range`. `range(len(meals))` would give us all the indices of `meals`. If we had used that range, the last iteration of the loop would be comparing the last element to the element after it, which is... `IndexError`! `range(len(meals)-1)` gives us all the indices except the index of the last element.\n",
       "\n",
       "But don't we need to check if `meals` is empty? Turns out that `range(0) == range(-1)` - they're both empty. So if `meals` has length 0 or 1, we just won't do any iterations of our for loop."
      ]
     },
     "metadata": {},
     "output_type": "display_data"
    }
   ],
   "source": [
    "def menu_is_boring(meals):\n",
    "    \"\"\"Given a list of meals served over some period of time, return True if the\n",
    "    same meal has ever been served two days in a row, and False otherwise.\n",
    "    \"\"\"\n",
    "    return any(x == y for x,y in zip(meals, meals[1:]))\n",
    "    for dish in range(len(meals)-1):\n",
    "        if meals[dish]==meals[dish+1]:\n",
    "            return True\n",
    "    return False\n",
    "\n",
    "# Check your answer\n",
    "q3.check()"
   ]
  },
  {
   "cell_type": "code",
   "execution_count": 9,
   "id": "ecbff56f",
   "metadata": {
    "execution": {
     "iopub.execute_input": "2022-12-03T11:30:11.871794Z",
     "iopub.status.busy": "2022-12-03T11:30:11.871072Z",
     "iopub.status.idle": "2022-12-03T11:30:11.875125Z",
     "shell.execute_reply": "2022-12-03T11:30:11.874221Z"
    },
    "papermill": {
     "duration": 0.015497,
     "end_time": "2022-12-03T11:30:11.877758",
     "exception": false,
     "start_time": "2022-12-03T11:30:11.862261",
     "status": "completed"
    },
    "tags": []
   },
   "outputs": [],
   "source": [
    "#q3.hint()\n",
    "#q3.solution()"
   ]
  },
  {
   "cell_type": "markdown",
   "id": "6c12d71a",
   "metadata": {
    "papermill": {
     "duration": 0.007123,
     "end_time": "2022-12-03T11:30:11.892494",
     "exception": false,
     "start_time": "2022-12-03T11:30:11.885371",
     "status": "completed"
    },
    "tags": []
   },
   "source": [
    "# 4. <span title=\"A bit spicy\" style=\"color: darkgreen \">🌶️</span>\n",
    "\n",
    "Next to the Blackjack table, the Python Challenge Casino has a slot machine. You can get a result from the slot machine by calling `play_slot_machine()`. The number it returns is your winnings in dollars. Usually it returns 0.  But sometimes you'll get lucky and get a big payday. Try running it below:"
   ]
  },
  {
   "cell_type": "code",
   "execution_count": 10,
   "id": "0ee1fc66",
   "metadata": {
    "execution": {
     "iopub.execute_input": "2022-12-03T11:30:11.909461Z",
     "iopub.status.busy": "2022-12-03T11:30:11.908762Z",
     "iopub.status.idle": "2022-12-03T11:30:11.915252Z",
     "shell.execute_reply": "2022-12-03T11:30:11.914283Z"
    },
    "papermill": {
     "duration": 0.017726,
     "end_time": "2022-12-03T11:30:11.917777",
     "exception": false,
     "start_time": "2022-12-03T11:30:11.900051",
     "status": "completed"
    },
    "tags": []
   },
   "outputs": [
    {
     "data": {
      "text/plain": [
       "1.5"
      ]
     },
     "execution_count": 10,
     "metadata": {},
     "output_type": "execute_result"
    }
   ],
   "source": [
    "play_slot_machine()"
   ]
  },
  {
   "cell_type": "markdown",
   "id": "c6684448",
   "metadata": {
    "papermill": {
     "duration": 0.00685,
     "end_time": "2022-12-03T11:30:11.931867",
     "exception": false,
     "start_time": "2022-12-03T11:30:11.925017",
     "status": "completed"
    },
    "tags": []
   },
   "source": [
    "By the way, did we mention that each play costs $1? Don't worry, we'll send you the bill later.\n",
    "\n",
    "On average, how much money can you expect to gain (or lose) every time you play the machine?  The casino keeps it a secret, but you can estimate the average value of each pull using a technique called the **Monte Carlo method**. To estimate the average outcome, we simulate the scenario many times, and return the average result.\n",
    "\n",
    "Complete the following function to calculate the average value per play of the slot machine."
   ]
  },
  {
   "cell_type": "code",
   "execution_count": 11,
   "id": "c081663a",
   "metadata": {
    "execution": {
     "iopub.execute_input": "2022-12-03T11:30:11.947445Z",
     "iopub.status.busy": "2022-12-03T11:30:11.947023Z",
     "iopub.status.idle": "2022-12-03T11:30:15.861047Z",
     "shell.execute_reply": "2022-12-03T11:30:15.859667Z"
    },
    "papermill": {
     "duration": 3.925274,
     "end_time": "2022-12-03T11:30:15.864050",
     "exception": false,
     "start_time": "2022-12-03T11:30:11.938776",
     "status": "completed"
    },
    "tags": []
   },
   "outputs": [
    {
     "name": "stdout",
     "output_type": "stream",
     "text": [
      "Estimating for 10000000 runs...\n",
      "0.0249611\n"
     ]
    }
   ],
   "source": [
    "def estimate_average_slot_payout(n_runs):\n",
    "    \"\"\"Run the slot machine n_runs times and return the average net profit per run.\n",
    "    Example calls (note that return value is nondeterministic!):\n",
    "    >>> estimate_average_slot_payout(1)\n",
    "    -1\n",
    "    >>> estimate_average_slot_payout(1)\n",
    "    0.5\n",
    "    \"\"\"\n",
    "    winnings = 0\n",
    "    for i in range(n_runs):\n",
    "        winnings += play_slot_machine()-1\n",
    "\n",
    "    return (winnings/n_runs)                      \n",
    "    \n",
    "test_runs = 10000000\n",
    "print(\"Estimating for\", test_runs, \"runs...\")\n",
    "print(estimate_average_slot_payout(test_runs))"
   ]
  },
  {
   "cell_type": "markdown",
   "id": "e547bf25",
   "metadata": {
    "papermill": {
     "duration": 0.00685,
     "end_time": "2022-12-03T11:30:15.878041",
     "exception": false,
     "start_time": "2022-12-03T11:30:15.871191",
     "status": "completed"
    },
    "tags": []
   },
   "source": [
    "When you think you know the expected value per spin, run the code cell below to view the solution and get credit for answering the question."
   ]
  },
  {
   "cell_type": "code",
   "execution_count": 12,
   "id": "d42908e0",
   "metadata": {
    "execution": {
     "iopub.execute_input": "2022-12-03T11:30:15.894168Z",
     "iopub.status.busy": "2022-12-03T11:30:15.893774Z",
     "iopub.status.idle": "2022-12-03T11:30:15.904783Z",
     "shell.execute_reply": "2022-12-03T11:30:15.903348Z"
    },
    "papermill": {
     "duration": 0.022118,
     "end_time": "2022-12-03T11:30:15.907221",
     "exception": false,
     "start_time": "2022-12-03T11:30:15.885103",
     "status": "completed"
    },
    "tags": []
   },
   "outputs": [
    {
     "data": {
      "application/javascript": [
       "parent.postMessage({\"jupyterEvent\": \"custom.exercise_interaction\", \"data\": {\"interactionType\": 3, \"questionType\": 4, \"questionId\": \"4_ExpectedSlotsPayout\", \"learnToolsVersion\": \"0.3.4\", \"valueTowardsCompletion\": 0.0, \"failureMessage\": \"\", \"exceptionClass\": \"\", \"trace\": \"\", \"outcomeType\": 4}}, \"*\")"
      ],
      "text/plain": [
       "<IPython.core.display.Javascript object>"
      ]
     },
     "metadata": {},
     "output_type": "display_data"
    },
    {
     "data": {
      "text/markdown": [
       "<span style=\"color:#33cc99\">Solution:</span> \n",
       "    \n",
       "The exact expected value of one pull of the slot machine is 0.025 - i.e. a little more than 2 cents.  See?  Not every game in the Python Challenge Casino is rigged against the player!\n",
       "\n",
       "In order to get this answer, you'll need to implement the `estimate_average_slot_payout(n_runs)` function to simulate pulling the slot machine `n_runs` times.  It should return the payout averaged over those `n_runs`.\n",
       "\n",
       "Then, once the function is defined, in order to estimate the average slot payout, we need only call the function.\n",
       "\n",
       "Because of the high variance of the outcome (there are some very rare high payout results that significantly affect the average) you might need to run your function with a very high value of `n_runs` to get a stable answer close to the true expectation.  For instance, you might use a value for `n_runs` of 1000000.\n",
       "\n",
       "Here's an example for how the function could look:\n",
       "```python\n",
       "def estimate_average_slot_payout(n_runs):\n",
       "    # Play slot machine n_runs times, calculate payout of each\n",
       "    payouts = [play_slot_machine()-1 for i in range(n_runs)]\n",
       "    # Calculate the average value\n",
       "    avg_payout = sum(payouts) / n_runs\n",
       "    return avg_payout\n",
       "    \n",
       "estimate_average_slot_payout(10000000)\n",
       "\n",
       "```\n",
       "\n",
       "This should return an answer close to 0.025!\n",
       "            \n"
      ],
      "text/plain": [
       "Solution: \n",
       "    \n",
       "The exact expected value of one pull of the slot machine is 0.025 - i.e. a little more than 2 cents.  See?  Not every game in the Python Challenge Casino is rigged against the player!\n",
       "\n",
       "In order to get this answer, you'll need to implement the `estimate_average_slot_payout(n_runs)` function to simulate pulling the slot machine `n_runs` times.  It should return the payout averaged over those `n_runs`.\n",
       "\n",
       "Then, once the function is defined, in order to estimate the average slot payout, we need only call the function.\n",
       "\n",
       "Because of the high variance of the outcome (there are some very rare high payout results that significantly affect the average) you might need to run your function with a very high value of `n_runs` to get a stable answer close to the true expectation.  For instance, you might use a value for `n_runs` of 1000000.\n",
       "\n",
       "Here's an example for how the function could look:\n",
       "```python\n",
       "def estimate_average_slot_payout(n_runs):\n",
       "    # Play slot machine n_runs times, calculate payout of each\n",
       "    payouts = [play_slot_machine()-1 for i in range(n_runs)]\n",
       "    # Calculate the average value\n",
       "    avg_payout = sum(payouts) / n_runs\n",
       "    return avg_payout\n",
       "    \n",
       "estimate_average_slot_payout(10000000)\n",
       "\n",
       "```\n",
       "\n",
       "This should return an answer close to 0.025!\n",
       "            "
      ]
     },
     "metadata": {},
     "output_type": "display_data"
    }
   ],
   "source": [
    "# Check your answer (Run this code cell to receive credit!)\n",
    "q4.solution()"
   ]
  },
  {
   "cell_type": "markdown",
   "id": "91aa859f",
   "metadata": {
    "papermill": {
     "duration": 0.007895,
     "end_time": "2022-12-03T11:30:15.922852",
     "exception": false,
     "start_time": "2022-12-03T11:30:15.914957",
     "status": "completed"
    },
    "tags": []
   },
   "source": [
    "# Keep Going\n",
    "\n",
    "Many programmers report that dictionaries are their favorite data structure. You'll get to **[learn about them](https://www.kaggle.com/colinmorris/strings-and-dictionaries)** (as well as strings) in the next lesson."
   ]
  },
  {
   "cell_type": "markdown",
   "id": "599e4253",
   "metadata": {
    "papermill": {
     "duration": 0.010441,
     "end_time": "2022-12-03T11:30:15.940913",
     "exception": false,
     "start_time": "2022-12-03T11:30:15.930472",
     "status": "completed"
    },
    "tags": []
   },
   "source": [
    "---\n",
    "\n",
    "\n",
    "\n",
    "\n",
    "*Have questions or comments? Visit the [course discussion forum](https://www.kaggle.com/learn/python/discussion) to chat with other learners.*"
   ]
  }
 ],
 "metadata": {
  "kernelspec": {
   "display_name": "Python 3",
   "language": "python",
   "name": "python3"
  },
  "language_info": {
   "codemirror_mode": {
    "name": "ipython",
    "version": 3
   },
   "file_extension": ".py",
   "mimetype": "text/x-python",
   "name": "python",
   "nbconvert_exporter": "python",
   "pygments_lexer": "ipython3",
   "version": "3.7.12"
  },
  "papermill": {
   "default_parameters": {},
   "duration": 16.171829,
   "end_time": "2022-12-03T11:30:16.673496",
   "environment_variables": {},
   "exception": null,
   "input_path": "__notebook__.ipynb",
   "output_path": "__notebook__.ipynb",
   "parameters": {},
   "start_time": "2022-12-03T11:30:00.501667",
   "version": "2.3.4"
  }
 },
 "nbformat": 4,
 "nbformat_minor": 5
}
