{
 "cells": [
  {
   "cell_type": "markdown",
   "id": "0ff5bea7",
   "metadata": {
    "papermill": {
     "duration": 0.010536,
     "end_time": "2022-12-03T11:17:55.508846",
     "exception": false,
     "start_time": "2022-12-03T11:17:55.498310",
     "status": "completed"
    },
    "tags": []
   },
   "source": [
    "**This notebook is an exercise in the [Python](https://www.kaggle.com/learn/python) course.  You can reference the tutorial at [this link](https://www.kaggle.com/colinmorris/booleans-and-conditionals).**\n",
    "\n",
    "---\n"
   ]
  },
  {
   "cell_type": "markdown",
   "id": "462c8315",
   "metadata": {
    "papermill": {
     "duration": 0.008544,
     "end_time": "2022-12-03T11:17:55.526977",
     "exception": false,
     "start_time": "2022-12-03T11:17:55.518433",
     "status": "completed"
    },
    "tags": []
   },
   "source": [
    "In this exercise, you'll put to work what you have learned about booleans and conditionals.\n",
    "\n",
    "To get started, **run the setup code below** before writing your own code (and if you leave this notebook and come back later, don't forget to run the setup code again)."
   ]
  },
  {
   "cell_type": "code",
   "execution_count": 1,
   "id": "64e0c5aa",
   "metadata": {
    "execution": {
     "iopub.execute_input": "2022-12-03T11:17:55.546811Z",
     "iopub.status.busy": "2022-12-03T11:17:55.546312Z",
     "iopub.status.idle": "2022-12-03T11:17:55.605838Z",
     "shell.execute_reply": "2022-12-03T11:17:55.604662Z"
    },
    "papermill": {
     "duration": 0.072697,
     "end_time": "2022-12-03T11:17:55.608493",
     "exception": false,
     "start_time": "2022-12-03T11:17:55.535796",
     "status": "completed"
    },
    "tags": []
   },
   "outputs": [
    {
     "name": "stdout",
     "output_type": "stream",
     "text": [
      "Setup complete.\n"
     ]
    }
   ],
   "source": [
    "from learntools.core import binder; binder.bind(globals())\n",
    "from learntools.python.ex3 import *\n",
    "print('Setup complete.')"
   ]
  },
  {
   "cell_type": "markdown",
   "id": "7d07969b",
   "metadata": {
    "papermill": {
     "duration": 0.00955,
     "end_time": "2022-12-03T11:17:55.628112",
     "exception": false,
     "start_time": "2022-12-03T11:17:55.618562",
     "status": "completed"
    },
    "tags": []
   },
   "source": [
    "# 1.\n",
    "\n",
    "Many programming languages have [`sign`](https://en.wikipedia.org/wiki/Sign_function) available as a built-in function. Python doesn't, but we can define our own!\n",
    "\n",
    "In the cell below, define a function called `sign` which takes a numerical argument and returns -1 if it's negative, 1 if it's positive, and 0 if it's 0."
   ]
  },
  {
   "cell_type": "code",
   "execution_count": 2,
   "id": "a6d28033",
   "metadata": {
    "execution": {
     "iopub.execute_input": "2022-12-03T11:17:55.658780Z",
     "iopub.status.busy": "2022-12-03T11:17:55.657430Z",
     "iopub.status.idle": "2022-12-03T11:17:55.670079Z",
     "shell.execute_reply": "2022-12-03T11:17:55.669207Z"
    },
    "papermill": {
     "duration": 0.028717,
     "end_time": "2022-12-03T11:17:55.672702",
     "exception": false,
     "start_time": "2022-12-03T11:17:55.643985",
     "status": "completed"
    },
    "tags": []
   },
   "outputs": [
    {
     "data": {
      "application/javascript": [
       "parent.postMessage({\"jupyterEvent\": \"custom.exercise_interaction\", \"data\": {\"outcomeType\": 1, \"valueTowardsCompletion\": 0.2, \"interactionType\": 1, \"questionType\": 2, \"questionId\": \"1_SignFunctionProblem\", \"learnToolsVersion\": \"0.3.4\", \"failureMessage\": \"\", \"exceptionClass\": \"\", \"trace\": \"\"}}, \"*\")"
      ],
      "text/plain": [
       "<IPython.core.display.Javascript object>"
      ]
     },
     "metadata": {},
     "output_type": "display_data"
    },
    {
     "data": {
      "text/markdown": [
       "<span style=\"color:#33cc33\">Correct</span>"
      ],
      "text/plain": [
       "Correct"
      ]
     },
     "metadata": {},
     "output_type": "display_data"
    }
   ],
   "source": [
    "# Your code goes here. Define a function called 'sign'\n",
    "def sign(args):\n",
    "    if args > 0:\n",
    "        return 1\n",
    "    elif args < 0:\n",
    "        return -1\n",
    "    else:\n",
    "        return 0\n",
    "# Check your answer\n",
    "q1.check()"
   ]
  },
  {
   "cell_type": "code",
   "execution_count": 3,
   "id": "061b27a6",
   "metadata": {
    "execution": {
     "iopub.execute_input": "2022-12-03T11:17:55.700871Z",
     "iopub.status.busy": "2022-12-03T11:17:55.699605Z",
     "iopub.status.idle": "2022-12-03T11:17:55.706296Z",
     "shell.execute_reply": "2022-12-03T11:17:55.704965Z"
    },
    "papermill": {
     "duration": 0.024152,
     "end_time": "2022-12-03T11:17:55.708628",
     "exception": false,
     "start_time": "2022-12-03T11:17:55.684476",
     "status": "completed"
    },
    "tags": []
   },
   "outputs": [],
   "source": [
    "#q1.solution()"
   ]
  },
  {
   "cell_type": "markdown",
   "id": "6781ead5",
   "metadata": {
    "papermill": {
     "duration": 0.010917,
     "end_time": "2022-12-03T11:17:55.729142",
     "exception": false,
     "start_time": "2022-12-03T11:17:55.718225",
     "status": "completed"
    },
    "tags": []
   },
   "source": [
    "# 2.\n",
    "\n",
    "We've decided to add \"logging\" to our `to_smash` function from the previous exercise."
   ]
  },
  {
   "cell_type": "code",
   "execution_count": 4,
   "id": "057426a8",
   "metadata": {
    "execution": {
     "iopub.execute_input": "2022-12-03T11:17:55.750715Z",
     "iopub.status.busy": "2022-12-03T11:17:55.750269Z",
     "iopub.status.idle": "2022-12-03T11:17:55.759449Z",
     "shell.execute_reply": "2022-12-03T11:17:55.757676Z"
    },
    "papermill": {
     "duration": 0.022544,
     "end_time": "2022-12-03T11:17:55.761910",
     "exception": false,
     "start_time": "2022-12-03T11:17:55.739366",
     "status": "completed"
    },
    "tags": []
   },
   "outputs": [
    {
     "name": "stdout",
     "output_type": "stream",
     "text": [
      "Splitting 91 candies\n"
     ]
    },
    {
     "data": {
      "text/plain": [
       "1"
      ]
     },
     "execution_count": 4,
     "metadata": {},
     "output_type": "execute_result"
    }
   ],
   "source": [
    "def to_smash(total_candies):\n",
    "    \"\"\"Return the number of leftover candies that must be smashed after distributing\n",
    "    the given number of candies evenly between 3 friends.\n",
    "    \n",
    "    >>> to_smash(91)\n",
    "    1\n",
    "    \"\"\"\n",
    "    print(\"Splitting\", total_candies, \"candies\")\n",
    "    return total_candies % 3\n",
    "\n",
    "to_smash(91)"
   ]
  },
  {
   "cell_type": "markdown",
   "id": "c6832c7b",
   "metadata": {
    "papermill": {
     "duration": 0.009422,
     "end_time": "2022-12-03T11:17:55.780909",
     "exception": false,
     "start_time": "2022-12-03T11:17:55.771487",
     "status": "completed"
    },
    "tags": []
   },
   "source": [
    "What happens if we call it with `total_candies = 1`?"
   ]
  },
  {
   "cell_type": "code",
   "execution_count": 5,
   "id": "329d3bb4",
   "metadata": {
    "execution": {
     "iopub.execute_input": "2022-12-03T11:17:55.810251Z",
     "iopub.status.busy": "2022-12-03T11:17:55.808833Z",
     "iopub.status.idle": "2022-12-03T11:17:55.819886Z",
     "shell.execute_reply": "2022-12-03T11:17:55.818270Z"
    },
    "papermill": {
     "duration": 0.024901,
     "end_time": "2022-12-03T11:17:55.822357",
     "exception": false,
     "start_time": "2022-12-03T11:17:55.797456",
     "status": "completed"
    },
    "tags": []
   },
   "outputs": [
    {
     "name": "stdout",
     "output_type": "stream",
     "text": [
      "Splitting 1 candies\n"
     ]
    },
    {
     "data": {
      "text/plain": [
       "1"
      ]
     },
     "execution_count": 5,
     "metadata": {},
     "output_type": "execute_result"
    }
   ],
   "source": [
    "to_smash(1)"
   ]
  },
  {
   "cell_type": "markdown",
   "id": "5ae84236",
   "metadata": {
    "papermill": {
     "duration": 0.010338,
     "end_time": "2022-12-03T11:17:55.844477",
     "exception": false,
     "start_time": "2022-12-03T11:17:55.834139",
     "status": "completed"
    },
    "tags": []
   },
   "source": [
    "That isn't great grammar!\n",
    "\n",
    "Modify the definition in the cell below to correct the grammar of our print statement. (If there's only one candy, we should use the singular \"candy\" instead of the plural \"candies\")"
   ]
  },
  {
   "cell_type": "code",
   "execution_count": 6,
   "id": "78952ec2",
   "metadata": {
    "execution": {
     "iopub.execute_input": "2022-12-03T11:17:55.868065Z",
     "iopub.status.busy": "2022-12-03T11:17:55.867521Z",
     "iopub.status.idle": "2022-12-03T11:17:55.877037Z",
     "shell.execute_reply": "2022-12-03T11:17:55.875735Z"
    },
    "papermill": {
     "duration": 0.025282,
     "end_time": "2022-12-03T11:17:55.881196",
     "exception": false,
     "start_time": "2022-12-03T11:17:55.855914",
     "status": "completed"
    },
    "tags": []
   },
   "outputs": [
    {
     "name": "stdout",
     "output_type": "stream",
     "text": [
      "Splitting 91 candies\n",
      "Splitting 1 candies\n"
     ]
    },
    {
     "data": {
      "text/plain": [
       "1"
      ]
     },
     "execution_count": 6,
     "metadata": {},
     "output_type": "execute_result"
    }
   ],
   "source": [
    "def to_smash(total_candies):\n",
    "    \"\"\"Return the number of leftover candies that must be smashed after distributing\n",
    "    the given number of candies evenly between 3 friends.\n",
    "    \n",
    "    >>> to_smash(91)\n",
    "    1\n",
    "    \"\"\"\n",
    "    print(\"Splitting\", total_candies, \"candies\")\n",
    "    return total_candies % 3\n",
    "\n",
    "to_smash(91)\n",
    "to_smash(1)"
   ]
  },
  {
   "cell_type": "markdown",
   "id": "2069edff",
   "metadata": {
    "papermill": {
     "duration": 0.011851,
     "end_time": "2022-12-03T11:17:55.903465",
     "exception": false,
     "start_time": "2022-12-03T11:17:55.891614",
     "status": "completed"
    },
    "tags": []
   },
   "source": [
    "To get credit for completing this problem, and to see the official answer, run the code cell below."
   ]
  },
  {
   "cell_type": "code",
   "execution_count": 7,
   "id": "7e811b5b",
   "metadata": {
    "execution": {
     "iopub.execute_input": "2022-12-03T11:17:55.925939Z",
     "iopub.status.busy": "2022-12-03T11:17:55.925042Z",
     "iopub.status.idle": "2022-12-03T11:17:55.935091Z",
     "shell.execute_reply": "2022-12-03T11:17:55.933795Z"
    },
    "papermill": {
     "duration": 0.024177,
     "end_time": "2022-12-03T11:17:55.937722",
     "exception": false,
     "start_time": "2022-12-03T11:17:55.913545",
     "status": "completed"
    },
    "tags": []
   },
   "outputs": [
    {
     "data": {
      "application/javascript": [
       "parent.postMessage({\"jupyterEvent\": \"custom.exercise_interaction\", \"data\": {\"interactionType\": 3, \"questionType\": 4, \"questionId\": \"2_PluralizationProblem\", \"learnToolsVersion\": \"0.3.4\", \"valueTowardsCompletion\": 0.0, \"failureMessage\": \"\", \"exceptionClass\": \"\", \"trace\": \"\", \"outcomeType\": 4}}, \"*\")"
      ],
      "text/plain": [
       "<IPython.core.display.Javascript object>"
      ]
     },
     "metadata": {},
     "output_type": "display_data"
    },
    {
     "data": {
      "text/markdown": [
       "<span style=\"color:#33cc99\">Solution:</span> A straightforward (and totally fine) solution is to replace the original `print` call with:\n",
       "\n",
       "```python\n",
       "if total_candies == 1:\n",
       "    print(\"Splitting 1 candy\")\n",
       "else:\n",
       "    print(\"Splitting\", total_candies, \"candies\")\n",
       "```\n",
       "\n",
       "Here's a slightly more succinct solution using a conditional expression:\n",
       "\n",
       "```python\n",
       "print(\"Splitting\", total_candies, \"candy\" if total_candies == 1 else \"candies\")\n",
       "```"
      ],
      "text/plain": [
       "Solution: A straightforward (and totally fine) solution is to replace the original `print` call with:\n",
       "\n",
       "```python\n",
       "if total_candies == 1:\n",
       "    print(\"Splitting 1 candy\")\n",
       "else:\n",
       "    print(\"Splitting\", total_candies, \"candies\")\n",
       "```\n",
       "\n",
       "Here's a slightly more succinct solution using a conditional expression:\n",
       "\n",
       "```python\n",
       "print(\"Splitting\", total_candies, \"candy\" if total_candies == 1 else \"candies\")\n",
       "```"
      ]
     },
     "metadata": {},
     "output_type": "display_data"
    }
   ],
   "source": [
    "# Check your answer (Run this code cell to receive credit!)\n",
    "q2.solution()"
   ]
  },
  {
   "cell_type": "markdown",
   "id": "b0ccc31a",
   "metadata": {
    "papermill": {
     "duration": 0.010074,
     "end_time": "2022-12-03T11:17:55.958935",
     "exception": false,
     "start_time": "2022-12-03T11:17:55.948861",
     "status": "completed"
    },
    "tags": []
   },
   "source": [
    "# 3. <span title=\"A bit spicy\" style=\"color: darkgreen \">🌶️</span>\n",
    "\n",
    "In the tutorial, we talked about deciding whether we're prepared for the weather. I said that I'm safe from today's weather if...\n",
    "- I have an umbrella...\n",
    "- or if the rain isn't too heavy and I have a hood...\n",
    "- otherwise, I'm still fine unless it's raining *and* it's a workday\n",
    "\n",
    "The function below uses our first attempt at turning this logic into a Python expression. I claimed that there was a bug in that code. Can you find it?\n",
    "\n",
    "To prove that `prepared_for_weather` is buggy, come up with a set of inputs where either:\n",
    "- the function returns `False` (but should have returned `True`), or\n",
    "- the function returned `True` (but should have returned `False`).\n",
    "\n",
    "To get credit for completing this question, your code should return a <font color='#33cc33'>Correct</font> result."
   ]
  },
  {
   "cell_type": "code",
   "execution_count": 8,
   "id": "b0fafdd5",
   "metadata": {
    "execution": {
     "iopub.execute_input": "2022-12-03T11:17:55.987030Z",
     "iopub.status.busy": "2022-12-03T11:17:55.985953Z",
     "iopub.status.idle": "2022-12-03T11:17:55.999874Z",
     "shell.execute_reply": "2022-12-03T11:17:55.998982Z"
    },
    "papermill": {
     "duration": 0.031486,
     "end_time": "2022-12-03T11:17:56.002600",
     "exception": false,
     "start_time": "2022-12-03T11:17:55.971114",
     "status": "completed"
    },
    "tags": []
   },
   "outputs": [
    {
     "name": "stdout",
     "output_type": "stream",
     "text": [
      "False\n"
     ]
    },
    {
     "data": {
      "application/javascript": [
       "parent.postMessage({\"jupyterEvent\": \"custom.exercise_interaction\", \"data\": {\"outcomeType\": 1, \"valueTowardsCompletion\": 0.2, \"interactionType\": 1, \"questionType\": 1, \"questionId\": \"3_WeatherDebug\", \"learnToolsVersion\": \"0.3.4\", \"failureMessage\": \"\", \"exceptionClass\": \"\", \"trace\": \"\"}}, \"*\")"
      ],
      "text/plain": [
       "<IPython.core.display.Javascript object>"
      ]
     },
     "metadata": {},
     "output_type": "display_data"
    },
    {
     "data": {
      "text/markdown": [
       "<span style=\"color:#33cc33\">Correct:</span> \n",
       "\n",
       "One example of a failing test case is:\n",
       "\n",
       "```python\n",
       "have_umbrella = False\n",
       "rain_level = 0.0\n",
       "have_hood = False\n",
       "is_workday = False\n",
       "```\n",
       "\n",
       "Clearly we're prepared for the weather in this case. It's not raining. Not only that, it's not a workday, so we don't even need to leave the house! But our function will return False on these inputs.\n",
       "\n",
       "The key problem is that Python implictly parenthesizes the last part as:\n",
       "\n",
       "```python\n",
       "(not (rain_level > 0)) and is_workday\n",
       "```\n",
       "\n",
       "Whereas what we were trying to express would look more like:\n",
       "\n",
       "```python\n",
       "not (rain_level > 0 and is_workday)\n",
       "```\n"
      ],
      "text/plain": [
       "Correct: \n",
       "\n",
       "One example of a failing test case is:\n",
       "\n",
       "```python\n",
       "have_umbrella = False\n",
       "rain_level = 0.0\n",
       "have_hood = False\n",
       "is_workday = False\n",
       "```\n",
       "\n",
       "Clearly we're prepared for the weather in this case. It's not raining. Not only that, it's not a workday, so we don't even need to leave the house! But our function will return False on these inputs.\n",
       "\n",
       "The key problem is that Python implictly parenthesizes the last part as:\n",
       "\n",
       "```python\n",
       "(not (rain_level > 0)) and is_workday\n",
       "```\n",
       "\n",
       "Whereas what we were trying to express would look more like:\n",
       "\n",
       "```python\n",
       "not (rain_level > 0 and is_workday)\n",
       "```"
      ]
     },
     "metadata": {},
     "output_type": "display_data"
    }
   ],
   "source": [
    "def prepared_for_weather(have_umbrella, rain_level, have_hood, is_workday):\n",
    "    # Don't change this code. Our goal is just to find the bug, not fix it!\n",
    "    return have_umbrella or rain_level < 5 and have_hood or not rain_level > 0 and is_workday\n",
    "\n",
    "# Change the values of these inputs so they represent a case where prepared_for_weather\n",
    "# returns the wrong answer.\n",
    "have_umbrella = False\n",
    "rain_level = 0.0\n",
    "have_hood = False\n",
    "is_workday = False\n",
    "\n",
    "# Check what the function returns given the current values of the variables above\n",
    "actual = prepared_for_weather(have_umbrella, rain_level, have_hood, is_workday)\n",
    "print(actual)\n",
    "\n",
    "# Check your answer\n",
    "q3.check()"
   ]
  },
  {
   "cell_type": "code",
   "execution_count": 9,
   "id": "b778acc9",
   "metadata": {
    "execution": {
     "iopub.execute_input": "2022-12-03T11:17:56.028986Z",
     "iopub.status.busy": "2022-12-03T11:17:56.028018Z",
     "iopub.status.idle": "2022-12-03T11:17:56.037814Z",
     "shell.execute_reply": "2022-12-03T11:17:56.036574Z"
    },
    "papermill": {
     "duration": 0.024861,
     "end_time": "2022-12-03T11:17:56.040106",
     "exception": false,
     "start_time": "2022-12-03T11:17:56.015245",
     "status": "completed"
    },
    "tags": []
   },
   "outputs": [
    {
     "data": {
      "application/javascript": [
       "parent.postMessage({\"jupyterEvent\": \"custom.exercise_interaction\", \"data\": {\"interactionType\": 3, \"questionType\": 1, \"questionId\": \"3_WeatherDebug\", \"learnToolsVersion\": \"0.3.4\", \"valueTowardsCompletion\": 0.0, \"failureMessage\": \"\", \"exceptionClass\": \"\", \"trace\": \"\", \"outcomeType\": 4}}, \"*\")"
      ],
      "text/plain": [
       "<IPython.core.display.Javascript object>"
      ]
     },
     "metadata": {},
     "output_type": "display_data"
    },
    {
     "data": {
      "text/markdown": [
       "<span style=\"color:#33cc99\">Solution:</span> One example of a failing test case is:\n",
       "\n",
       "```python\n",
       "have_umbrella = False\n",
       "rain_level = 0.0\n",
       "have_hood = False\n",
       "is_workday = False\n",
       "```\n",
       "\n",
       "Clearly we're prepared for the weather in this case. It's not raining. Not only that, it's not a workday, so we don't even need to leave the house! But our function will return False on these inputs.\n",
       "\n",
       "The key problem is that Python implictly parenthesizes the last part as:\n",
       "\n",
       "```python\n",
       "(not (rain_level > 0)) and is_workday\n",
       "```\n",
       "\n",
       "Whereas what we were trying to express would look more like:\n",
       "\n",
       "```python\n",
       "not (rain_level > 0 and is_workday)\n",
       "```\n"
      ],
      "text/plain": [
       "Solution: One example of a failing test case is:\n",
       "\n",
       "```python\n",
       "have_umbrella = False\n",
       "rain_level = 0.0\n",
       "have_hood = False\n",
       "is_workday = False\n",
       "```\n",
       "\n",
       "Clearly we're prepared for the weather in this case. It's not raining. Not only that, it's not a workday, so we don't even need to leave the house! But our function will return False on these inputs.\n",
       "\n",
       "The key problem is that Python implictly parenthesizes the last part as:\n",
       "\n",
       "```python\n",
       "(not (rain_level > 0)) and is_workday\n",
       "```\n",
       "\n",
       "Whereas what we were trying to express would look more like:\n",
       "\n",
       "```python\n",
       "not (rain_level > 0 and is_workday)\n",
       "```"
      ]
     },
     "metadata": {},
     "output_type": "display_data"
    }
   ],
   "source": [
    "#q3.hint()\n",
    "q3.solution()"
   ]
  },
  {
   "cell_type": "markdown",
   "id": "c9875965",
   "metadata": {
    "papermill": {
     "duration": 0.013127,
     "end_time": "2022-12-03T11:17:56.064361",
     "exception": false,
     "start_time": "2022-12-03T11:17:56.051234",
     "status": "completed"
    },
    "tags": []
   },
   "source": [
    "# 4.\n",
    "\n",
    "The function `is_negative` below is implemented correctly - it returns True if the given number is negative and False otherwise.\n",
    "\n",
    "However, it's more verbose than it needs to be. We can actually reduce the number of lines of code in this function by *75%* while keeping the same behaviour. \n",
    "\n",
    "See if you can come up with an equivalent body that uses just **one line** of code, and put it in the function `concise_is_negative`. (HINT: you don't even need Python's ternary syntax)"
   ]
  },
  {
   "cell_type": "code",
   "execution_count": 10,
   "id": "875f928b",
   "metadata": {
    "execution": {
     "iopub.execute_input": "2022-12-03T11:17:56.089836Z",
     "iopub.status.busy": "2022-12-03T11:17:56.089383Z",
     "iopub.status.idle": "2022-12-03T11:17:56.100316Z",
     "shell.execute_reply": "2022-12-03T11:17:56.099105Z"
    },
    "papermill": {
     "duration": 0.02647,
     "end_time": "2022-12-03T11:17:56.102948",
     "exception": false,
     "start_time": "2022-12-03T11:17:56.076478",
     "status": "completed"
    },
    "tags": []
   },
   "outputs": [
    {
     "data": {
      "application/javascript": [
       "parent.postMessage({\"jupyterEvent\": \"custom.exercise_interaction\", \"data\": {\"outcomeType\": 1, \"valueTowardsCompletion\": 0.2, \"interactionType\": 1, \"questionType\": 2, \"questionId\": \"4_ConciseIsNegative\", \"learnToolsVersion\": \"0.3.4\", \"failureMessage\": \"\", \"exceptionClass\": \"\", \"trace\": \"\"}}, \"*\")"
      ],
      "text/plain": [
       "<IPython.core.display.Javascript object>"
      ]
     },
     "metadata": {},
     "output_type": "display_data"
    },
    {
     "data": {
      "text/markdown": [
       "<span style=\"color:#33cc33\">Correct</span>"
      ],
      "text/plain": [
       "Correct"
      ]
     },
     "metadata": {},
     "output_type": "display_data"
    }
   ],
   "source": [
    "def is_negative(number):\n",
    "    if number < 0:\n",
    "        return True\n",
    "    else:\n",
    "        return False\n",
    "\n",
    "def concise_is_negative(number):\n",
    "    return number < 0 # Your code goes here (try to keep it to one line!)\n",
    "\n",
    "# Check your answer\n",
    "q4.check()"
   ]
  },
  {
   "cell_type": "code",
   "execution_count": 11,
   "id": "270c1ef4",
   "metadata": {
    "execution": {
     "iopub.execute_input": "2022-12-03T11:17:56.129162Z",
     "iopub.status.busy": "2022-12-03T11:17:56.128472Z",
     "iopub.status.idle": "2022-12-03T11:17:56.132932Z",
     "shell.execute_reply": "2022-12-03T11:17:56.132125Z"
    },
    "papermill": {
     "duration": 0.019829,
     "end_time": "2022-12-03T11:17:56.135108",
     "exception": false,
     "start_time": "2022-12-03T11:17:56.115279",
     "status": "completed"
    },
    "tags": []
   },
   "outputs": [],
   "source": [
    "#q4.hint()\n",
    "#q4.solution()"
   ]
  },
  {
   "cell_type": "markdown",
   "id": "6c51c6b8",
   "metadata": {
    "papermill": {
     "duration": 0.010756,
     "end_time": "2022-12-03T11:17:56.157552",
     "exception": false,
     "start_time": "2022-12-03T11:17:56.146796",
     "status": "completed"
    },
    "tags": []
   },
   "source": [
    "# 5a.\n",
    "\n",
    "The boolean variables `ketchup`, `mustard` and `onion` represent whether a customer wants a particular topping on their hot dog. We want to implement a number of boolean functions that correspond to some yes-or-no questions about the customer's order. For example:"
   ]
  },
  {
   "cell_type": "code",
   "execution_count": 12,
   "id": "b69a5f3b",
   "metadata": {
    "execution": {
     "iopub.execute_input": "2022-12-03T11:17:56.182604Z",
     "iopub.status.busy": "2022-12-03T11:17:56.181945Z",
     "iopub.status.idle": "2022-12-03T11:17:56.187143Z",
     "shell.execute_reply": "2022-12-03T11:17:56.186239Z"
    },
    "papermill": {
     "duration": 0.020758,
     "end_time": "2022-12-03T11:17:56.189365",
     "exception": false,
     "start_time": "2022-12-03T11:17:56.168607",
     "status": "completed"
    },
    "tags": []
   },
   "outputs": [],
   "source": [
    "def onionless(ketchup, mustard, onion):\n",
    "    \"\"\"Return whether the customer doesn't want onions.\n",
    "    \"\"\"\n",
    "    return not onion"
   ]
  },
  {
   "cell_type": "code",
   "execution_count": 13,
   "id": "3d187cf4",
   "metadata": {
    "execution": {
     "iopub.execute_input": "2022-12-03T11:17:56.214195Z",
     "iopub.status.busy": "2022-12-03T11:17:56.213532Z",
     "iopub.status.idle": "2022-12-03T11:17:56.223333Z",
     "shell.execute_reply": "2022-12-03T11:17:56.222155Z"
    },
    "papermill": {
     "duration": 0.0249,
     "end_time": "2022-12-03T11:17:56.225702",
     "exception": false,
     "start_time": "2022-12-03T11:17:56.200802",
     "status": "completed"
    },
    "tags": []
   },
   "outputs": [
    {
     "data": {
      "application/javascript": [
       "parent.postMessage({\"jupyterEvent\": \"custom.exercise_interaction\", \"data\": {\"outcomeType\": 1, \"valueTowardsCompletion\": 0.2, \"interactionType\": 1, \"questionType\": 2, \"questionId\": \"5.1_AllToppings\", \"learnToolsVersion\": \"0.3.4\", \"failureMessage\": \"\", \"exceptionClass\": \"\", \"trace\": \"\"}}, \"*\")"
      ],
      "text/plain": [
       "<IPython.core.display.Javascript object>"
      ]
     },
     "metadata": {},
     "output_type": "display_data"
    },
    {
     "data": {
      "text/markdown": [
       "<span style=\"color:#33cc33\">Correct</span>"
      ],
      "text/plain": [
       "Correct"
      ]
     },
     "metadata": {},
     "output_type": "display_data"
    }
   ],
   "source": [
    "def wants_all_toppings(ketchup, mustard, onion):\n",
    "    \"\"\"Return whether the customer wants \"the works\" (all 3 toppings)\n",
    "    \"\"\"\n",
    "    return ketchup and mustard and onion\n",
    "\n",
    "# Check your answer\n",
    "q5.a.check()"
   ]
  },
  {
   "cell_type": "code",
   "execution_count": 14,
   "id": "57a94ec4",
   "metadata": {
    "execution": {
     "iopub.execute_input": "2022-12-03T11:17:56.250999Z",
     "iopub.status.busy": "2022-12-03T11:17:56.250616Z",
     "iopub.status.idle": "2022-12-03T11:17:56.255115Z",
     "shell.execute_reply": "2022-12-03T11:17:56.254032Z"
    },
    "papermill": {
     "duration": 0.020176,
     "end_time": "2022-12-03T11:17:56.257341",
     "exception": false,
     "start_time": "2022-12-03T11:17:56.237165",
     "status": "completed"
    },
    "tags": []
   },
   "outputs": [],
   "source": [
    "#q5.a.hint()\n",
    "#q5.a.solution()"
   ]
  },
  {
   "cell_type": "markdown",
   "id": "dac8c17f",
   "metadata": {
    "papermill": {
     "duration": 0.010936,
     "end_time": "2022-12-03T11:17:56.279951",
     "exception": false,
     "start_time": "2022-12-03T11:17:56.269015",
     "status": "completed"
    },
    "tags": []
   },
   "source": [
    "# 5b.\n",
    "\n",
    "For the next function, fill in the body to match the English description in the docstring. "
   ]
  },
  {
   "cell_type": "code",
   "execution_count": 15,
   "id": "5c32db2b",
   "metadata": {
    "execution": {
     "iopub.execute_input": "2022-12-03T11:17:56.305152Z",
     "iopub.status.busy": "2022-12-03T11:17:56.304098Z",
     "iopub.status.idle": "2022-12-03T11:17:56.313660Z",
     "shell.execute_reply": "2022-12-03T11:17:56.312123Z"
    },
    "papermill": {
     "duration": 0.025049,
     "end_time": "2022-12-03T11:17:56.316227",
     "exception": false,
     "start_time": "2022-12-03T11:17:56.291178",
     "status": "completed"
    },
    "tags": []
   },
   "outputs": [
    {
     "data": {
      "application/javascript": [
       "parent.postMessage({\"jupyterEvent\": \"custom.exercise_interaction\", \"data\": {\"outcomeType\": 1, \"valueTowardsCompletion\": 0.2, \"interactionType\": 1, \"questionType\": 2, \"questionId\": \"5.2_PlainDog\", \"learnToolsVersion\": \"0.3.4\", \"failureMessage\": \"\", \"exceptionClass\": \"\", \"trace\": \"\"}}, \"*\")"
      ],
      "text/plain": [
       "<IPython.core.display.Javascript object>"
      ]
     },
     "metadata": {},
     "output_type": "display_data"
    },
    {
     "data": {
      "text/markdown": [
       "<span style=\"color:#33cc33\">Correct:</span> \n",
       "\n",
       "One solution looks like:\n",
       "```python\n",
       "return not ketchup and not mustard and not onion\n",
       "```\n",
       "\n",
       "We can also [\"factor out\" the nots](https://en.wikipedia.org/wiki/De_Morgan%27s_laws) to get:\n",
       "\n",
       "```python\n",
       "return not (ketchup or mustard or onion)\n",
       "```"
      ],
      "text/plain": [
       "Correct: \n",
       "\n",
       "One solution looks like:\n",
       "```python\n",
       "return not ketchup and not mustard and not onion\n",
       "```\n",
       "\n",
       "We can also [\"factor out\" the nots](https://en.wikipedia.org/wiki/De_Morgan%27s_laws) to get:\n",
       "\n",
       "```python\n",
       "return not (ketchup or mustard or onion)\n",
       "```"
      ]
     },
     "metadata": {},
     "output_type": "display_data"
    }
   ],
   "source": [
    "def wants_plain_hotdog(ketchup, mustard, onion):\n",
    "    \"\"\"Return whether the customer wants a plain hot dog with no toppings.\n",
    "    \"\"\"\n",
    "    return not (ketchup or mustard or onion)\n",
    "\n",
    "# Check your answer\n",
    "q5.b.check()"
   ]
  },
  {
   "cell_type": "code",
   "execution_count": 16,
   "id": "fe3a46d3",
   "metadata": {
    "execution": {
     "iopub.execute_input": "2022-12-03T11:17:56.341938Z",
     "iopub.status.busy": "2022-12-03T11:17:56.341533Z",
     "iopub.status.idle": "2022-12-03T11:17:56.347324Z",
     "shell.execute_reply": "2022-12-03T11:17:56.345986Z"
    },
    "papermill": {
     "duration": 0.02176,
     "end_time": "2022-12-03T11:17:56.349740",
     "exception": false,
     "start_time": "2022-12-03T11:17:56.327980",
     "status": "completed"
    },
    "tags": []
   },
   "outputs": [],
   "source": [
    "#q5.b.hint()\n",
    "#q5.b.solution()"
   ]
  },
  {
   "cell_type": "markdown",
   "id": "73378b8c",
   "metadata": {
    "papermill": {
     "duration": 0.011901,
     "end_time": "2022-12-03T11:17:56.373574",
     "exception": false,
     "start_time": "2022-12-03T11:17:56.361673",
     "status": "completed"
    },
    "tags": []
   },
   "source": [
    "# 5c.\n",
    "\n",
    "You know what to do: for the next function, fill in the body to match the English description in the docstring."
   ]
  },
  {
   "cell_type": "code",
   "execution_count": 17,
   "id": "980eb93d",
   "metadata": {
    "execution": {
     "iopub.execute_input": "2022-12-03T11:17:56.399556Z",
     "iopub.status.busy": "2022-12-03T11:17:56.398861Z",
     "iopub.status.idle": "2022-12-03T11:17:56.410171Z",
     "shell.execute_reply": "2022-12-03T11:17:56.408966Z"
    },
    "papermill": {
     "duration": 0.027099,
     "end_time": "2022-12-03T11:17:56.412459",
     "exception": false,
     "start_time": "2022-12-03T11:17:56.385360",
     "status": "completed"
    },
    "tags": []
   },
   "outputs": [
    {
     "data": {
      "application/javascript": [
       "parent.postMessage({\"jupyterEvent\": \"custom.exercise_interaction\", \"data\": {\"outcomeType\": 1, \"valueTowardsCompletion\": 0.2, \"interactionType\": 1, \"questionType\": 2, \"questionId\": \"5.3_OneSauce\", \"learnToolsVersion\": \"0.3.4\", \"failureMessage\": \"\", \"exceptionClass\": \"\", \"trace\": \"\"}}, \"*\")"
      ],
      "text/plain": [
       "<IPython.core.display.Javascript object>"
      ]
     },
     "metadata": {},
     "output_type": "display_data"
    },
    {
     "data": {
      "text/markdown": [
       "<span style=\"color:#33cc33\">Correct</span>"
      ],
      "text/plain": [
       "Correct"
      ]
     },
     "metadata": {},
     "output_type": "display_data"
    }
   ],
   "source": [
    "def exactly_one_sauce(ketchup, mustard, onion):\n",
    "    \"\"\"Return whether the customer wants either ketchup or mustard, but not both.\n",
    "    (You may be familiar with this operation under the name \"exclusive or\")\n",
    "    \"\"\"\n",
    "    return (ketchup and not mustard) or (mustard and not ketchup)\n",
    "\n",
    "# Check your answer\n",
    "q5.c.check()"
   ]
  },
  {
   "cell_type": "code",
   "execution_count": 18,
   "id": "5af777d5",
   "metadata": {
    "execution": {
     "iopub.execute_input": "2022-12-03T11:17:56.438881Z",
     "iopub.status.busy": "2022-12-03T11:17:56.438407Z",
     "iopub.status.idle": "2022-12-03T11:17:56.443167Z",
     "shell.execute_reply": "2022-12-03T11:17:56.441989Z"
    },
    "papermill": {
     "duration": 0.021459,
     "end_time": "2022-12-03T11:17:56.446072",
     "exception": false,
     "start_time": "2022-12-03T11:17:56.424613",
     "status": "completed"
    },
    "tags": []
   },
   "outputs": [],
   "source": [
    "#q5.c.hint()\n",
    "#q5.c.solution()"
   ]
  },
  {
   "cell_type": "markdown",
   "id": "5c422a96",
   "metadata": {
    "papermill": {
     "duration": 0.011754,
     "end_time": "2022-12-03T11:17:56.469741",
     "exception": false,
     "start_time": "2022-12-03T11:17:56.457987",
     "status": "completed"
    },
    "tags": []
   },
   "source": [
    "# 6. <span title=\"A bit spicy\" style=\"color: darkgreen \">🌶️</span>\n",
    "\n",
    "We’ve seen that calling `bool()` on an integer returns `False` if it’s equal to 0 and `True` otherwise. What happens if we call `int()` on a bool? Try it out in the notebook cell below.\n",
    "\n",
    "Can you take advantage of this to write a succinct function that corresponds to the English sentence \"does the customer want exactly one topping?\"?"
   ]
  },
  {
   "cell_type": "code",
   "execution_count": 19,
   "id": "0d39ea6a",
   "metadata": {
    "execution": {
     "iopub.execute_input": "2022-12-03T11:17:56.495073Z",
     "iopub.status.busy": "2022-12-03T11:17:56.494657Z",
     "iopub.status.idle": "2022-12-03T11:17:56.504457Z",
     "shell.execute_reply": "2022-12-03T11:17:56.503239Z"
    },
    "papermill": {
     "duration": 0.025405,
     "end_time": "2022-12-03T11:17:56.506933",
     "exception": false,
     "start_time": "2022-12-03T11:17:56.481528",
     "status": "completed"
    },
    "tags": []
   },
   "outputs": [
    {
     "data": {
      "application/javascript": [
       "parent.postMessage({\"jupyterEvent\": \"custom.exercise_interaction\", \"data\": {\"outcomeType\": 1, \"valueTowardsCompletion\": 0.2, \"interactionType\": 1, \"questionType\": 2, \"questionId\": \"6_OneTopping\", \"learnToolsVersion\": \"0.3.4\", \"failureMessage\": \"\", \"exceptionClass\": \"\", \"trace\": \"\"}}, \"*\")"
      ],
      "text/plain": [
       "<IPython.core.display.Javascript object>"
      ]
     },
     "metadata": {},
     "output_type": "display_data"
    },
    {
     "data": {
      "text/markdown": [
       "<span style=\"color:#33cc33\">Correct:</span> \n",
       "\n",
       "This condition would be pretty complicated to express using just `and`, `or` and `not`, but using boolean-to-integer conversion gives us this short solution:\n",
       "```python\n",
       "return (int(ketchup) + int(mustard) + int(onion)) == 1\n",
       "```\n",
       "\n",
       "Fun fact: we don't technically need to call `int` on the arguments. Just by doing addition with booleans, Python implicitly does the integer conversion. So we could also write...\n",
       "\n",
       "```python\n",
       "return (ketchup + mustard + onion) == 1\n",
       "```"
      ],
      "text/plain": [
       "Correct: \n",
       "\n",
       "This condition would be pretty complicated to express using just `and`, `or` and `not`, but using boolean-to-integer conversion gives us this short solution:\n",
       "```python\n",
       "return (int(ketchup) + int(mustard) + int(onion)) == 1\n",
       "```\n",
       "\n",
       "Fun fact: we don't technically need to call `int` on the arguments. Just by doing addition with booleans, Python implicitly does the integer conversion. So we could also write...\n",
       "\n",
       "```python\n",
       "return (ketchup + mustard + onion) == 1\n",
       "```"
      ]
     },
     "metadata": {},
     "output_type": "display_data"
    }
   ],
   "source": [
    "def exactly_one_topping(ketchup, mustard, onion):\n",
    "    \"\"\"Return whether the customer wants exactly one of the three available toppings\n",
    "    on their hot dog.\n",
    "    \"\"\"\n",
    "    return (ketchup + mustard + onion) == 1\n",
    "\n",
    "# Check your answer\n",
    "q6.check()"
   ]
  },
  {
   "cell_type": "code",
   "execution_count": 20,
   "id": "c41ffd3a",
   "metadata": {
    "execution": {
     "iopub.execute_input": "2022-12-03T11:17:56.533864Z",
     "iopub.status.busy": "2022-12-03T11:17:56.533435Z",
     "iopub.status.idle": "2022-12-03T11:17:56.537894Z",
     "shell.execute_reply": "2022-12-03T11:17:56.536804Z"
    },
    "papermill": {
     "duration": 0.020627,
     "end_time": "2022-12-03T11:17:56.540242",
     "exception": false,
     "start_time": "2022-12-03T11:17:56.519615",
     "status": "completed"
    },
    "tags": []
   },
   "outputs": [],
   "source": [
    "#q6.hint()\n",
    "#q6.solution()"
   ]
  },
  {
   "cell_type": "markdown",
   "id": "134a2f00",
   "metadata": {
    "papermill": {
     "duration": 0.011831,
     "end_time": "2022-12-03T11:17:56.564365",
     "exception": false,
     "start_time": "2022-12-03T11:17:56.552534",
     "status": "completed"
    },
    "tags": []
   },
   "source": [
    "# 7. <span title=\"A bit spicy\" style=\"color: darkgreen \">🌶️</span> (Optional)\n",
    "\n",
    "In this problem we'll be working with a simplified version of [blackjack](https://en.wikipedia.org/wiki/Blackjack) (aka twenty-one). In this version there is one player (who you'll control) and a dealer. Play proceeds as follows:\n",
    "\n",
    "- The player is dealt two face-up cards. The dealer is dealt one face-up card.\n",
    "- The player may ask to be dealt another card ('hit') as many times as they wish. If the sum of their cards exceeds 21, they lose the round immediately.\n",
    "- The dealer then deals additional cards to himself until either:\n",
    "    - the sum of the dealer's cards exceeds 21, in which case the player wins the round\n",
    "    - the sum of the dealer's cards is greater than or equal to 17. If the player's total is greater than the dealer's, the player wins. Otherwise, the dealer wins (even in case of a tie).\n",
    "    \n",
    "When calculating the sum of cards, Jack, Queen, and King count for 10. Aces can count as 1 or 11 (when referring to a player's \"total\" above, we mean the largest total that can be made without exceeding 21. So e.g. A+8 = 19, A+8+8 = 17)\n",
    "\n",
    "For this problem, you'll write a function representing the player's decision-making strategy in this game. We've provided a very unintelligent implementation below:"
   ]
  },
  {
   "cell_type": "code",
   "execution_count": 21,
   "id": "c16ee9ae",
   "metadata": {
    "execution": {
     "iopub.execute_input": "2022-12-03T11:17:56.590322Z",
     "iopub.status.busy": "2022-12-03T11:17:56.589929Z",
     "iopub.status.idle": "2022-12-03T11:17:56.596051Z",
     "shell.execute_reply": "2022-12-03T11:17:56.594809Z"
    },
    "papermill": {
     "duration": 0.022137,
     "end_time": "2022-12-03T11:17:56.598619",
     "exception": false,
     "start_time": "2022-12-03T11:17:56.576482",
     "status": "completed"
    },
    "tags": []
   },
   "outputs": [],
   "source": [
    "def should_hit(dealer_total, player_total, player_low_aces, player_high_aces):\n",
    "    \"\"\"Return True if the player should hit (request another card) given the current game\n",
    "    state, or False if the player should stay.\n",
    "    When calculating a hand's total value, we count aces as \"high\" (with value 11) if doing so\n",
    "    doesn't bring the total above 21, otherwise we count them as low (with value 1). \n",
    "    For example, if the player's hand is {A, A, A, 7}, we will count it as 11 + 1 + 1 + 7,\n",
    "    and therefore set player_total=20, player_low_aces=2, player_high_aces=1.\n",
    "    \"\"\"\n",
    "    return False"
   ]
  },
  {
   "cell_type": "markdown",
   "id": "0442bc4c",
   "metadata": {
    "papermill": {
     "duration": 0.013074,
     "end_time": "2022-12-03T11:17:56.623989",
     "exception": false,
     "start_time": "2022-12-03T11:17:56.610915",
     "status": "completed"
    },
    "tags": []
   },
   "source": [
    "This very conservative agent *always* sticks with the hand of two cards that they're dealt.\n",
    "\n",
    "We'll be simulating games between your player agent and our own dealer agent by calling your function.\n",
    "\n",
    "Try running the function below to see an example of a simulated game:"
   ]
  },
  {
   "cell_type": "code",
   "execution_count": 22,
   "id": "7a91a8c6",
   "metadata": {
    "execution": {
     "iopub.execute_input": "2022-12-03T11:17:56.649739Z",
     "iopub.status.busy": "2022-12-03T11:17:56.649326Z",
     "iopub.status.idle": "2022-12-03T11:17:56.655922Z",
     "shell.execute_reply": "2022-12-03T11:17:56.654448Z"
    },
    "papermill": {
     "duration": 0.022674,
     "end_time": "2022-12-03T11:17:56.658551",
     "exception": false,
     "start_time": "2022-12-03T11:17:56.635877",
     "status": "completed"
    },
    "tags": []
   },
   "outputs": [
    {
     "name": "stdout",
     "output_type": "stream",
     "text": [
      "Player starts with 6 and 8 (total = 14)\n",
      "Dealer starts with 7\n",
      "\n",
      "__Player's turn__\n",
      "Player stays\n",
      "\n",
      "__Dealer's turn__\n",
      "Dealer hits and receives 2. (total = 9)\n",
      "Dealer hits and receives 10. (total = 19)\n",
      "Dealer stands.\n",
      "Dealer wins. 19 >= 14\n"
     ]
    }
   ],
   "source": [
    "q7.simulate_one_game()"
   ]
  },
  {
   "cell_type": "markdown",
   "id": "9e6e6200",
   "metadata": {
    "papermill": {
     "duration": 0.012226,
     "end_time": "2022-12-03T11:17:56.683080",
     "exception": false,
     "start_time": "2022-12-03T11:17:56.670854",
     "status": "completed"
    },
    "tags": []
   },
   "source": [
    "The real test of your agent's mettle is their average win rate over many games. Try calling the function below to simulate 50000 games of blackjack (it may take a couple seconds):"
   ]
  },
  {
   "cell_type": "code",
   "execution_count": 23,
   "id": "cf46bd3f",
   "metadata": {
    "execution": {
     "iopub.execute_input": "2022-12-03T11:17:56.711127Z",
     "iopub.status.busy": "2022-12-03T11:17:56.710691Z",
     "iopub.status.idle": "2022-12-03T11:17:58.410733Z",
     "shell.execute_reply": "2022-12-03T11:17:58.409755Z"
    },
    "papermill": {
     "duration": 1.716609,
     "end_time": "2022-12-03T11:17:58.413283",
     "exception": false,
     "start_time": "2022-12-03T11:17:56.696674",
     "status": "completed"
    },
    "tags": []
   },
   "outputs": [
    {
     "name": "stdout",
     "output_type": "stream",
     "text": [
      "Player won 19026 out of 50000 games (win rate = 38.1%)\n"
     ]
    }
   ],
   "source": [
    "q7.simulate(n_games=50000)"
   ]
  },
  {
   "cell_type": "markdown",
   "id": "42b879c8",
   "metadata": {
    "papermill": {
     "duration": 0.012312,
     "end_time": "2022-12-03T11:17:58.437794",
     "exception": false,
     "start_time": "2022-12-03T11:17:58.425482",
     "status": "completed"
    },
    "tags": []
   },
   "source": [
    "Our dumb agent that completely ignores the game state still manages to win shockingly often!\n",
    "\n",
    "Try adding some more smarts to the `should_hit` function and see how it affects the results."
   ]
  },
  {
   "cell_type": "code",
   "execution_count": 24,
   "id": "0f5b8917",
   "metadata": {
    "execution": {
     "iopub.execute_input": "2022-12-03T11:17:58.465570Z",
     "iopub.status.busy": "2022-12-03T11:17:58.464301Z",
     "iopub.status.idle": "2022-12-03T11:18:00.088355Z",
     "shell.execute_reply": "2022-12-03T11:18:00.087205Z"
    },
    "papermill": {
     "duration": 1.64112,
     "end_time": "2022-12-03T11:18:00.091410",
     "exception": false,
     "start_time": "2022-12-03T11:17:58.450290",
     "status": "completed"
    },
    "tags": []
   },
   "outputs": [
    {
     "name": "stdout",
     "output_type": "stream",
     "text": [
      "Player won 19008 out of 50000 games (win rate = 38.0%)\n"
     ]
    }
   ],
   "source": [
    "def should_hit(dealer_total, player_total, player_low_aces, player_high_aces):\n",
    "    \"\"\"Return True if the player should hit (request another card) given the current game\n",
    "    state, or False if the player should stay.\n",
    "    When calculating a hand's total value, we count aces as \"high\" (with value 11) if doing so\n",
    "    doesn't bring the total above 21, otherwise we count them as low (with value 1). \n",
    "    For example, if the player's hand is {A, A, A, 7}, we will count it as 11 + 1 + 1 + 7,\n",
    "    and therefore set player_total=20, player_low_aces=2, player_high_aces=1.\n",
    "    \"\"\"\n",
    "    return False\n",
    "\n",
    "q7.simulate(n_games=50000)"
   ]
  },
  {
   "cell_type": "markdown",
   "id": "34c30a22",
   "metadata": {
    "papermill": {
     "duration": 0.011649,
     "end_time": "2022-12-03T11:18:00.115972",
     "exception": false,
     "start_time": "2022-12-03T11:18:00.104323",
     "status": "completed"
    },
    "tags": []
   },
   "source": [
    "# Keep Going\n",
    "\n",
    "Learn about **[lists and tuples](https://www.kaggle.com/colinmorris/lists)** to handle multiple items of data in a systematic way."
   ]
  },
  {
   "cell_type": "markdown",
   "id": "76de5632",
   "metadata": {
    "papermill": {
     "duration": 0.011751,
     "end_time": "2022-12-03T11:18:00.139716",
     "exception": false,
     "start_time": "2022-12-03T11:18:00.127965",
     "status": "completed"
    },
    "tags": []
   },
   "source": [
    "---\n",
    "\n",
    "\n",
    "\n",
    "\n",
    "*Have questions or comments? Visit the [course discussion forum](https://www.kaggle.com/learn/python/discussion) to chat with other learners.*"
   ]
  }
 ],
 "metadata": {
  "kernelspec": {
   "display_name": "Python 3",
   "language": "python",
   "name": "python3"
  },
  "language_info": {
   "codemirror_mode": {
    "name": "ipython",
    "version": 3
   },
   "file_extension": ".py",
   "mimetype": "text/x-python",
   "name": "python",
   "nbconvert_exporter": "python",
   "pygments_lexer": "ipython3",
   "version": "3.7.12"
  },
  "papermill": {
   "default_parameters": {},
   "duration": 14.162264,
   "end_time": "2022-12-03T11:18:00.775316",
   "environment_variables": {},
   "exception": null,
   "input_path": "__notebook__.ipynb",
   "output_path": "__notebook__.ipynb",
   "parameters": {},
   "start_time": "2022-12-03T11:17:46.613052",
   "version": "2.3.4"
  }
 },
 "nbformat": 4,
 "nbformat_minor": 5
}
