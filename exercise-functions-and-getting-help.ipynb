{
 "cells": [
  {
   "cell_type": "markdown",
   "id": "5fe8afbd",
   "metadata": {
    "papermill": {
     "duration": 0.005935,
     "end_time": "2022-12-03T11:16:44.079068",
     "exception": false,
     "start_time": "2022-12-03T11:16:44.073133",
     "status": "completed"
    },
    "tags": []
   },
   "source": [
    "**This notebook is an exercise in the [Python](https://www.kaggle.com/learn/python) course.  You can reference the tutorial at [this link](https://www.kaggle.com/colinmorris/functions-and-getting-help).**\n",
    "\n",
    "---\n"
   ]
  },
  {
   "cell_type": "markdown",
   "id": "69d7ad6d",
   "metadata": {
    "papermill": {
     "duration": 0.004635,
     "end_time": "2022-12-03T11:16:44.088838",
     "exception": false,
     "start_time": "2022-12-03T11:16:44.084203",
     "status": "completed"
    },
    "tags": []
   },
   "source": [
    "Functions are powerful. Try writing some yourself.\n",
    "\n",
    "As before, don't forget to run the setup code below before jumping into question 1."
   ]
  },
  {
   "cell_type": "code",
   "execution_count": 1,
   "id": "c05ec344",
   "metadata": {
    "_kg_hide-input": true,
    "_kg_hide-output": true,
    "execution": {
     "iopub.execute_input": "2022-12-03T11:16:44.100913Z",
     "iopub.status.busy": "2022-12-03T11:16:44.100423Z",
     "iopub.status.idle": "2022-12-03T11:16:44.158015Z",
     "shell.execute_reply": "2022-12-03T11:16:44.157162Z"
    },
    "papermill": {
     "duration": 0.066643,
     "end_time": "2022-12-03T11:16:44.160673",
     "exception": false,
     "start_time": "2022-12-03T11:16:44.094030",
     "status": "completed"
    },
    "tags": []
   },
   "outputs": [
    {
     "name": "stdout",
     "output_type": "stream",
     "text": [
      "Setup complete.\n"
     ]
    }
   ],
   "source": [
    "# SETUP. You don't need to worry for now about what this code does or how it works.\n",
    "from learntools.core import binder; binder.bind(globals())\n",
    "from learntools.python.ex2 import *\n",
    "print('Setup complete.')"
   ]
  },
  {
   "cell_type": "markdown",
   "id": "f159cc63",
   "metadata": {
    "papermill": {
     "duration": 0.005221,
     "end_time": "2022-12-03T11:16:44.170962",
     "exception": false,
     "start_time": "2022-12-03T11:16:44.165741",
     "status": "completed"
    },
    "tags": []
   },
   "source": [
    "# 1.\n",
    "\n",
    "Complete the body of the following function according to its docstring.\n",
    "\n",
    "HINT: Python has a built-in function `round`."
   ]
  },
  {
   "cell_type": "code",
   "execution_count": 2,
   "id": "658905bc",
   "metadata": {
    "execution": {
     "iopub.execute_input": "2022-12-03T11:16:44.182591Z",
     "iopub.status.busy": "2022-12-03T11:16:44.181981Z",
     "iopub.status.idle": "2022-12-03T11:16:44.192837Z",
     "shell.execute_reply": "2022-12-03T11:16:44.191957Z"
    },
    "papermill": {
     "duration": 0.018963,
     "end_time": "2022-12-03T11:16:44.194905",
     "exception": false,
     "start_time": "2022-12-03T11:16:44.175942",
     "status": "completed"
    },
    "tags": []
   },
   "outputs": [
    {
     "data": {
      "application/javascript": [
       "parent.postMessage({\"jupyterEvent\": \"custom.exercise_interaction\", \"data\": {\"outcomeType\": 1, \"valueTowardsCompletion\": 0.16666666666666666, \"interactionType\": 1, \"questionType\": 2, \"questionId\": \"1_RoundFunctionProblem\", \"learnToolsVersion\": \"0.3.4\", \"failureMessage\": \"\", \"exceptionClass\": \"\", \"trace\": \"\"}}, \"*\")"
      ],
      "text/plain": [
       "<IPython.core.display.Javascript object>"
      ]
     },
     "metadata": {},
     "output_type": "display_data"
    },
    {
     "data": {
      "text/markdown": [
       "<span style=\"color:#33cc33\">Correct</span>"
      ],
      "text/plain": [
       "Correct"
      ]
     },
     "metadata": {},
     "output_type": "display_data"
    }
   ],
   "source": [
    "def round_to_two_places(num):\n",
    "    \"\"\"Return the given number rounded to two decimal places. \n",
    "    \n",
    "    >>> round_to_two_places(3.14159)\n",
    "    3.14\n",
    "    \"\"\"\n",
    "    \n",
    "    num = round(num, 2)\n",
    "    return num\n",
    "    # Replace this body with your own code.\n",
    "    # (\"pass\" is a keyword that does literally nothing. We used it as a placeholder\n",
    "    # because after we begin a code block, Python requires at least one line of code)\n",
    "    pass\n",
    "\n",
    "# Check your answer\n",
    "q1.check()"
   ]
  },
  {
   "cell_type": "code",
   "execution_count": 3,
   "id": "3689cfb0",
   "metadata": {
    "execution": {
     "iopub.execute_input": "2022-12-03T11:16:44.207868Z",
     "iopub.status.busy": "2022-12-03T11:16:44.206939Z",
     "iopub.status.idle": "2022-12-03T11:16:44.211145Z",
     "shell.execute_reply": "2022-12-03T11:16:44.210230Z"
    },
    "papermill": {
     "duration": 0.013438,
     "end_time": "2022-12-03T11:16:44.213400",
     "exception": false,
     "start_time": "2022-12-03T11:16:44.199962",
     "status": "completed"
    },
    "tags": []
   },
   "outputs": [],
   "source": [
    "# Uncomment the following for a hint\n",
    "#q1.hint()\n",
    "# Or uncomment the following to peek at the solution\n",
    "#q1.solution()"
   ]
  },
  {
   "cell_type": "markdown",
   "id": "9caf7d23",
   "metadata": {
    "papermill": {
     "duration": 0.00479,
     "end_time": "2022-12-03T11:16:44.223339",
     "exception": false,
     "start_time": "2022-12-03T11:16:44.218549",
     "status": "completed"
    },
    "tags": []
   },
   "source": [
    "# 2.\n",
    "The help for `round` says that `ndigits` (the second argument) may be negative.\n",
    "What do you think will happen when it is? Try some examples in the following cell."
   ]
  },
  {
   "cell_type": "code",
   "execution_count": 4,
   "id": "be0560e8",
   "metadata": {
    "execution": {
     "iopub.execute_input": "2022-12-03T11:16:44.235569Z",
     "iopub.status.busy": "2022-12-03T11:16:44.234878Z",
     "iopub.status.idle": "2022-12-03T11:16:44.239317Z",
     "shell.execute_reply": "2022-12-03T11:16:44.238439Z"
    },
    "papermill": {
     "duration": 0.013076,
     "end_time": "2022-12-03T11:16:44.241443",
     "exception": false,
     "start_time": "2022-12-03T11:16:44.228367",
     "status": "completed"
    },
    "tags": []
   },
   "outputs": [],
   "source": [
    "# Put your test code here"
   ]
  },
  {
   "cell_type": "markdown",
   "id": "742ab07d",
   "metadata": {
    "papermill": {
     "duration": 0.004824,
     "end_time": "2022-12-03T11:16:44.251311",
     "exception": false,
     "start_time": "2022-12-03T11:16:44.246487",
     "status": "completed"
    },
    "tags": []
   },
   "source": [
    "Can you think of a case where this would be useful?  Once you're ready, run the code cell below to see the answer and to receive credit for completing the problem."
   ]
  },
  {
   "cell_type": "code",
   "execution_count": 5,
   "id": "8078cd81",
   "metadata": {
    "execution": {
     "iopub.execute_input": "2022-12-03T11:16:44.263750Z",
     "iopub.status.busy": "2022-12-03T11:16:44.262823Z",
     "iopub.status.idle": "2022-12-03T11:16:44.272809Z",
     "shell.execute_reply": "2022-12-03T11:16:44.271414Z"
    },
    "papermill": {
     "duration": 0.019796,
     "end_time": "2022-12-03T11:16:44.276085",
     "exception": false,
     "start_time": "2022-12-03T11:16:44.256289",
     "status": "completed"
    },
    "tags": []
   },
   "outputs": [
    {
     "data": {
      "application/javascript": [
       "parent.postMessage({\"jupyterEvent\": \"custom.exercise_interaction\", \"data\": {\"interactionType\": 3, \"questionType\": 4, \"questionId\": \"2_RoundNdigitsProblem\", \"learnToolsVersion\": \"0.3.4\", \"valueTowardsCompletion\": 0.0, \"failureMessage\": \"\", \"exceptionClass\": \"\", \"trace\": \"\", \"outcomeType\": 4}}, \"*\")"
      ],
      "text/plain": [
       "<IPython.core.display.Javascript object>"
      ]
     },
     "metadata": {},
     "output_type": "display_data"
    },
    {
     "data": {
      "text/markdown": [
       "<span style=\"color:#33cc99\">Solution:</span> As you've seen, `ndigits=-1` rounds to the nearest 10, `ndigits=-2` rounds to the nearest 100 and so on. Where might this be useful? Suppose we're dealing with large numbers:\n",
       "\n",
       "> The area of Finland is 338,424 km²  \n",
       "> The area of Greenland is 2,166,086 km²\n",
       "\n",
       "We probably don't care whether it's really 338,424, or 338,425, or 338,177. All those digits of accuracy are just distracting. We can chop them off by calling `round()` with `ndigits=-3`:\n",
       "\n",
       "> The area of Finland is 338,000 km²  \n",
       "> The area of Greenland is 2,166,000 km²\n",
       "\n",
       "(We'll talk about how we would get the commas later when we talk about string formatting :))\n"
      ],
      "text/plain": [
       "Solution: As you've seen, `ndigits=-1` rounds to the nearest 10, `ndigits=-2` rounds to the nearest 100 and so on. Where might this be useful? Suppose we're dealing with large numbers:\n",
       "\n",
       "> The area of Finland is 338,424 km²  \n",
       "> The area of Greenland is 2,166,086 km²\n",
       "\n",
       "We probably don't care whether it's really 338,424, or 338,425, or 338,177. All those digits of accuracy are just distracting. We can chop them off by calling `round()` with `ndigits=-3`:\n",
       "\n",
       "> The area of Finland is 338,000 km²  \n",
       "> The area of Greenland is 2,166,000 km²\n",
       "\n",
       "(We'll talk about how we would get the commas later when we talk about string formatting :))"
      ]
     },
     "metadata": {},
     "output_type": "display_data"
    }
   ],
   "source": [
    "# Check your answer (Run this code cell to receive credit!)\n",
    "q2.solution()"
   ]
  },
  {
   "cell_type": "markdown",
   "id": "246d5e7b",
   "metadata": {
    "papermill": {
     "duration": 0.005973,
     "end_time": "2022-12-03T11:16:44.287770",
     "exception": false,
     "start_time": "2022-12-03T11:16:44.281797",
     "status": "completed"
    },
    "tags": []
   },
   "source": [
    "# 3.\n",
    "\n",
    "In the previous exercise, the candy-sharing friends Alice, Bob and Carol tried to split candies evenly. For the sake of their friendship, any candies left over would be smashed. For example, if they collectively bring home 91 candies, they'll take 30 each and smash 1.\n",
    "\n",
    "Below is a simple function that will calculate the number of candies to smash for *any* number of total candies.\n",
    "\n",
    "Modify it so that it optionally takes a second argument representing the number of friends the candies are being split between. If no second argument is provided, it should assume 3 friends, as before.\n",
    "\n",
    "Update the docstring to reflect this new behaviour."
   ]
  },
  {
   "cell_type": "code",
   "execution_count": 6,
   "id": "35d655d7",
   "metadata": {
    "execution": {
     "iopub.execute_input": "2022-12-03T11:16:44.301254Z",
     "iopub.status.busy": "2022-12-03T11:16:44.300755Z",
     "iopub.status.idle": "2022-12-03T11:16:44.311255Z",
     "shell.execute_reply": "2022-12-03T11:16:44.309786Z"
    },
    "papermill": {
     "duration": 0.020761,
     "end_time": "2022-12-03T11:16:44.314134",
     "exception": false,
     "start_time": "2022-12-03T11:16:44.293373",
     "status": "completed"
    },
    "tags": []
   },
   "outputs": [
    {
     "data": {
      "application/javascript": [
       "parent.postMessage({\"jupyterEvent\": \"custom.exercise_interaction\", \"data\": {\"outcomeType\": 1, \"valueTowardsCompletion\": 0.16666666666666666, \"interactionType\": 1, \"questionType\": 2, \"questionId\": \"3_CandySmashingFunctionProblem\", \"learnToolsVersion\": \"0.3.4\", \"failureMessage\": \"\", \"exceptionClass\": \"\", \"trace\": \"\"}}, \"*\")"
      ],
      "text/plain": [
       "<IPython.core.display.Javascript object>"
      ]
     },
     "metadata": {},
     "output_type": "display_data"
    },
    {
     "data": {
      "text/markdown": [
       "<span style=\"color:#33cc33\">Correct</span>"
      ],
      "text/plain": [
       "Correct"
      ]
     },
     "metadata": {},
     "output_type": "display_data"
    }
   ],
   "source": [
    "def to_smash(total_candies, num_of_division=3):\n",
    "    \"\"\"Return the number of leftover candies that must be smashed after distributing\n",
    "    the given number of candies evenly between 3 friends.\n",
    "    \n",
    "    >>> to_smash(91)\n",
    "    1\n",
    "    \"\"\"\n",
    "    return total_candies % num_of_division\n",
    "\n",
    "# Check your answer\n",
    "q3.check()"
   ]
  },
  {
   "cell_type": "code",
   "execution_count": 7,
   "id": "886fdd85",
   "metadata": {
    "execution": {
     "iopub.execute_input": "2022-12-03T11:16:44.328721Z",
     "iopub.status.busy": "2022-12-03T11:16:44.328329Z",
     "iopub.status.idle": "2022-12-03T11:16:44.333186Z",
     "shell.execute_reply": "2022-12-03T11:16:44.331908Z"
    },
    "papermill": {
     "duration": 0.01528,
     "end_time": "2022-12-03T11:16:44.335836",
     "exception": false,
     "start_time": "2022-12-03T11:16:44.320556",
     "status": "completed"
    },
    "tags": []
   },
   "outputs": [],
   "source": [
    "#q3.hint()"
   ]
  },
  {
   "cell_type": "code",
   "execution_count": 8,
   "id": "7f352656",
   "metadata": {
    "execution": {
     "iopub.execute_input": "2022-12-03T11:16:44.350316Z",
     "iopub.status.busy": "2022-12-03T11:16:44.349917Z",
     "iopub.status.idle": "2022-12-03T11:16:44.355044Z",
     "shell.execute_reply": "2022-12-03T11:16:44.353825Z"
    },
    "papermill": {
     "duration": 0.014241,
     "end_time": "2022-12-03T11:16:44.357349",
     "exception": false,
     "start_time": "2022-12-03T11:16:44.343108",
     "status": "completed"
    },
    "tags": []
   },
   "outputs": [],
   "source": [
    "#q3.solution()"
   ]
  },
  {
   "cell_type": "markdown",
   "id": "c1fc7806",
   "metadata": {
    "papermill": {
     "duration": 0.005767,
     "end_time": "2022-12-03T11:16:44.369289",
     "exception": false,
     "start_time": "2022-12-03T11:16:44.363522",
     "status": "completed"
    },
    "tags": []
   },
   "source": [
    "# 4. (Optional)\n",
    "\n",
    "It may not be fun, but reading and understanding error messages will be an important part of your Python career.\n",
    "\n",
    "Each code cell below contains some commented buggy code. For each cell...\n",
    "\n",
    "1. Read the code and predict what you think will happen when it's run.\n",
    "2. Then uncomment the code and run it to see what happens. (**Tip**: In the kernel editor, you can highlight several lines and press `ctrl`+`/` to toggle commenting.)\n",
    "3. Fix the code (so that it accomplishes its intended purpose without throwing an exception)\n",
    "\n",
    "<!-- TODO: should this be autochecked? Delta is probably pretty small. -->"
   ]
  },
  {
   "cell_type": "code",
   "execution_count": 9,
   "id": "eb00190d",
   "metadata": {
    "execution": {
     "iopub.execute_input": "2022-12-03T11:16:44.382553Z",
     "iopub.status.busy": "2022-12-03T11:16:44.381857Z",
     "iopub.status.idle": "2022-12-03T11:16:44.389229Z",
     "shell.execute_reply": "2022-12-03T11:16:44.388027Z"
    },
    "papermill": {
     "duration": 0.01673,
     "end_time": "2022-12-03T11:16:44.391657",
     "exception": false,
     "start_time": "2022-12-03T11:16:44.374927",
     "status": "completed"
    },
    "tags": []
   },
   "outputs": [
    {
     "data": {
      "text/plain": [
       "10.0"
      ]
     },
     "execution_count": 9,
     "metadata": {},
     "output_type": "execute_result"
    }
   ],
   "source": [
    "# ruound_to_two_places(9.9999)\n",
    "round(9.9999, 2)"
   ]
  },
  {
   "cell_type": "code",
   "execution_count": 10,
   "id": "ad4e902f",
   "metadata": {
    "execution": {
     "iopub.execute_input": "2022-12-03T11:16:44.405254Z",
     "iopub.status.busy": "2022-12-03T11:16:44.404873Z",
     "iopub.status.idle": "2022-12-03T11:16:44.410642Z",
     "shell.execute_reply": "2022-12-03T11:16:44.409339Z"
    },
    "papermill": {
     "duration": 0.015657,
     "end_time": "2022-12-03T11:16:44.413221",
     "exception": false,
     "start_time": "2022-12-03T11:16:44.397564",
     "status": "completed"
    },
    "tags": []
   },
   "outputs": [
    {
     "name": "stdout",
     "output_type": "stream",
     "text": [
      "5\n"
     ]
    }
   ],
   "source": [
    "x = -10\n",
    "y = 5\n",
    "# Which of the two variables above has the smallest absolute value?\n",
    "smallest_abs = min(abs(x), abs(y))\n",
    "print(smallest_abs)"
   ]
  },
  {
   "cell_type": "code",
   "execution_count": 11,
   "id": "011782ec",
   "metadata": {
    "execution": {
     "iopub.execute_input": "2022-12-03T11:16:44.426829Z",
     "iopub.status.busy": "2022-12-03T11:16:44.426432Z",
     "iopub.status.idle": "2022-12-03T11:16:44.432530Z",
     "shell.execute_reply": "2022-12-03T11:16:44.431316Z"
    },
    "papermill": {
     "duration": 0.015824,
     "end_time": "2022-12-03T11:16:44.434804",
     "exception": false,
     "start_time": "2022-12-03T11:16:44.418980",
     "status": "completed"
    },
    "tags": []
   },
   "outputs": [
    {
     "name": "stdout",
     "output_type": "stream",
     "text": [
      "5\n"
     ]
    }
   ],
   "source": [
    "def f(x):\n",
    "    y = abs(x)\n",
    "    return y\n",
    "\n",
    "print(f(5))"
   ]
  },
  {
   "cell_type": "markdown",
   "id": "ba05ecf1",
   "metadata": {
    "papermill": {
     "duration": 0.00543,
     "end_time": "2022-12-03T11:16:44.446026",
     "exception": false,
     "start_time": "2022-12-03T11:16:44.440596",
     "status": "completed"
    },
    "tags": []
   },
   "source": [
    "# Keep Going\n",
    "\n",
    "Nice job with the code. Next up, you'll learn about *conditionals*, which you'll need to **[write interesting programs](https://www.kaggle.com/colinmorris/booleans-and-conditionals)**. "
   ]
  },
  {
   "cell_type": "markdown",
   "id": "e04e2103",
   "metadata": {
    "papermill": {
     "duration": 0.005381,
     "end_time": "2022-12-03T11:16:44.457204",
     "exception": false,
     "start_time": "2022-12-03T11:16:44.451823",
     "status": "completed"
    },
    "tags": []
   },
   "source": [
    "---\n",
    "\n",
    "\n",
    "\n",
    "\n",
    "*Have questions or comments? Visit the [course discussion forum](https://www.kaggle.com/learn/python/discussion) to chat with other learners.*"
   ]
  }
 ],
 "metadata": {
  "kernelspec": {
   "display_name": "Python 3",
   "language": "python",
   "name": "python3"
  },
  "language_info": {
   "codemirror_mode": {
    "name": "ipython",
    "version": 3
   },
   "file_extension": ".py",
   "mimetype": "text/x-python",
   "name": "python",
   "nbconvert_exporter": "python",
   "pygments_lexer": "ipython3",
   "version": "3.7.12"
  },
  "papermill": {
   "default_parameters": {},
   "duration": 9.428629,
   "end_time": "2022-12-03T11:16:45.084981",
   "environment_variables": {},
   "exception": null,
   "input_path": "__notebook__.ipynb",
   "output_path": "__notebook__.ipynb",
   "parameters": {},
   "start_time": "2022-12-03T11:16:35.656352",
   "version": "2.3.4"
  }
 },
 "nbformat": 4,
 "nbformat_minor": 5
}
